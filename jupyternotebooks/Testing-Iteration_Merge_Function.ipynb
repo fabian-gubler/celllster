{
  "nbformat": 4,
  "nbformat_minor": 0,
  "metadata": {
    "colab": {
      "provenance": [],
      "collapsed_sections": [
        "hW0EJS3Q4KAV",
        "MH71poz2fK0d",
        "sLhD9dg9GjG9"
      ]
    },
    "kernelspec": {
      "name": "python3",
      "display_name": "Python 3"
    },
    "language_info": {
      "name": "python"
    }
  },
  "cells": [
    {
      "cell_type": "markdown",
      "source": [
        "### Excel Formula Parser: Converts Excel Formula to Abstract Syntax Tree (AST)"
      ],
      "metadata": {
        "id": "hW0EJS3Q4KAV"
      }
    },
    {
      "cell_type": "code",
      "execution_count": 110,
      "metadata": {
        "id": "CtKx1hoHzY68"
      },
      "outputs": [],
      "source": [
        "import re\n",
        "\n",
        "class Cell:\n",
        "  def __init__(self, col, row):\n",
        "    self.col = col\n",
        "    self.row = row\n",
        "  def __repr__(self):\n",
        "    return \"Cell[%s%d]\" % (self.col, self.row)\n",
        "\n",
        "class CellRange:\n",
        "  def __init__(self, start, end):\n",
        "    self.start = start\n",
        "    self.end   = end\n",
        "  def __repr__(self):\n",
        "    return \"Range[%s][%s]\" % (self.start, self.end)\n",
        "\n",
        "class Name:\n",
        "  def __init__(self, name):\n",
        "    self.name = name\n",
        "  def __repr__(self):\n",
        "    return \"Name[%s]\" % self.name\n",
        "\n",
        "class Function:\n",
        "  def __init__(self, func_name, arguments):\n",
        "    self.func_name = func_name\n",
        "    self.arguments    = arguments\n",
        "  def __repr__(self):\n",
        "    return \"Func[%s][%d][%s]\" % (self.func_name, len(self.arguments), \", \".join(map(str, self.arguments)))\n",
        "\n",
        "class Number:\n",
        "  def __init__(self, value):\n",
        "    self.value = value\n",
        "  def __repr__(self):\n",
        "    return \"Num[%f]\" % self.value\n",
        "\n",
        "class Logical:\n",
        "  def __init__(self, value):\n",
        "    self.value = value\n",
        "  def __repr__(self):\n",
        "    return \"Bool[%s]\" % self.value\n",
        "\n",
        "class Binary:\n",
        "  def __init__(self, left, op, right):\n",
        "    self.left = left\n",
        "    self.op = op\n",
        "    self.right = right\n",
        "  def __repr__(self):\n",
        "    return \"Binary[%s][%s][%s]\" % (self.op, self.left, self.right)\n",
        "\n",
        "class Unary:\n",
        "  def __init__(self, op, expr):\n",
        "    self.op = op\n",
        "    self.expr = expr\n",
        "  def __repr__(self):\n",
        "    return \"Unary[%s][%s]\" % (self.op, self.expr)\n",
        "\n",
        "def _tokenize(code):\n",
        "  return code.replace(\":\", \" : \").replace(\",\", \" , \").replace(\"(\", \" ( \").replace(\")\", \" ) \")\\\n",
        "             .replace(\"*\", \" * \").replace(\"+\", \" + \").replace(\"/\", \" / \").replace(\"-\", \" - \")\\\n",
        "             .replace(\"%\", \" % \").replace(\"^\", \" ^ \").replace(\"=\", \" = \").replace(\"<\", \" < \")\\\n",
        "             .replace(\"e - \", \"e-\").replace(\"e + \", \"e+\")\\\n",
        "             .replace(\"> =\", \" >= \").replace(\"< =\", \" <= \").replace(\"< >\", \" <> \")\\\n",
        "             .split()\n",
        "\n",
        "\n",
        "class FormulaParseError(Exception): pass\n",
        "\n",
        "def _parse(tokens):\n",
        "\n",
        "  def _parse_logical():\n",
        "    if tokens[0].lower() == \"true\":\n",
        "      tokens.pop(0)\n",
        "      return Logical(True)\n",
        "    elif tokens[0].lower() == \"false\":\n",
        "      tokens.pop(0)\n",
        "      return Logical(False)\n",
        "\n",
        "  def _parse_number():\n",
        "    try:\n",
        "      number = int(tokens[0])\n",
        "      tokens.pop(0)\n",
        "      return Number(number)\n",
        "    except ValueError:\n",
        "      try:\n",
        "        number = float(tokens[0])\n",
        "        tokens.pop(0)\n",
        "        return Number(number)\n",
        "      except:\n",
        "        return None\n",
        "\n",
        "  def col_name_to_number(col):\n",
        "    \"\"\"Converts an Excel column name to a number (e.g., 'A' -> 1, 'Z' -> 26, 'AA' -> 27).\"\"\"\n",
        "    number = 0\n",
        "    for char in col:\n",
        "        number = number * 26 + (ord(char) - ord('A') + 1)\n",
        "    return number\n",
        "\n",
        "  def _parse_cell():\n",
        "    # https://support.microsoft.com/en-us/office/overview-of-formulas-in-excel-ecfdc708-9162-49e8-b993-c311f47ca173\n",
        "    cell_regex = '^([a-zA-Z]+)([0-9]+)$'\n",
        "    matches = re.match(cell_regex, tokens[0])\n",
        "    if matches is None:\n",
        "        return None\n",
        "    col = matches.group(1).upper()\n",
        "    col_number = col_name_to_number(col)\n",
        "    if col_number > 16384:  # 16384 is the column number for 'XFD'\n",
        "        return None\n",
        "    row = int(matches.group(2))\n",
        "    if row > 1048576 or row == 0:\n",
        "        return None\n",
        "    return Cell(col, row)\n",
        "\n",
        "  def _parse_cell_or_range():\n",
        "    cell1 = _parse_cell()\n",
        "    if cell1 is None:\n",
        "      return None\n",
        "    tokens.pop(0)\n",
        "    if len(tokens) == 0 or tokens[0] != ':':\n",
        "      return cell1\n",
        "    tokens.pop(0)\n",
        "    if len(tokens) == 0:\n",
        "      raise FormulaParseError(\"Unexpected end-of-formula after colon\")\n",
        "    cell2 = _parse_cell()\n",
        "    if cell2 is None:\n",
        "      raise FormulaParseError(\"Expected cell after colon, found \" + tokens[0])\n",
        "    tokens.pop(0)\n",
        "    return CellRange(cell1, cell2)\n",
        "\n",
        "  def _parse_name_or_func():\n",
        "    # https://support.microsoft.com/en-us/office/names-in-formulas-fc2935f9-115d-4bef-a370-3aa8bb4c91f1\n",
        "    name_is_ok = re.match('^[a-zA-Z_][a-zA-Z0-9_.]+$', tokens[0])\n",
        "    if name_is_ok is None:\n",
        "      return None\n",
        "    name = tokens.pop(0).upper()\n",
        "    if len(tokens) == 0 or tokens[0] != \"(\":\n",
        "      return Name(name)\n",
        "    tokens.pop(0)\n",
        "    arguments = []\n",
        "    while True:\n",
        "      if len(tokens) == 0:\n",
        "        raise FormulaParseError(\"Unexpected end-of-formula while parsing arguments of \" + name)\n",
        "      arg = _parse_expr()\n",
        "      if arg is None:\n",
        "        return None\n",
        "      arguments.append(arg)\n",
        "      if len(tokens) == 0:\n",
        "        raise FormulaParseError(\"Unexpected end-of-formula while parsing arguments of \" + name)\n",
        "      next = tokens.pop(0)\n",
        "      if next == \")\":\n",
        "        break\n",
        "      elif next == \",\":\n",
        "        continue\n",
        "      else:\n",
        "        raise FormulaParseError(\"Expected closed parenthesis or comma after argument of function \" + name)\n",
        "    return Function(name, arguments)\n",
        "\n",
        "  def _parse_unary():\n",
        "    if tokens[0] in [\"+\", \"-\"]:\n",
        "      op = tokens.pop(0)\n",
        "      if len(tokens) == 0:\n",
        "        raise FormulaParseError(\"Unexpected end-of-formula after unary operator \" + op)\n",
        "      return Unary(op, _parse_expr())\n",
        "\n",
        "  def _parse_op():\n",
        "    if tokens[0] in [\"+\", \"-\", \"*\", \"/\", \"%\", \"^\", \"=\", \"<>\", \"<\", \">\", \"<=\", \">=\"]:\n",
        "      return tokens.pop(0)\n",
        "    raise FormulaParseError(\"Unknown operator \" + tokens.pop(0))\n",
        "\n",
        "  def _parse_basic_expr():\n",
        "    logical = _parse_logical()\n",
        "    if logical is not None:\n",
        "      return logical\n",
        "    number = _parse_number()\n",
        "    if number is not None:\n",
        "      return number\n",
        "    cell_or_range = _parse_cell_or_range()\n",
        "    if cell_or_range is not None:\n",
        "      return cell_or_range\n",
        "    func_or_name = _parse_name_or_func()\n",
        "    if func_or_name is not None:\n",
        "      return func_or_name\n",
        "    if tokens[0] == \"(\":\n",
        "      tokens.pop(0)\n",
        "      expr = _parse_expr()\n",
        "      if len(tokens) == 0 or tokens[0] != \")\":\n",
        "        raise FormulaParseError(\"Closed parenthesis expected\")\n",
        "      return expr\n",
        "    if tokens[0] == \"+\" or tokens[0] == \"-\":\n",
        "      op = tokens.pop(0)\n",
        "      if len(tokens) == 0:\n",
        "        raise FormulaParseError(\"Unexpected end-of-formula after unary operator \" + op)\n",
        "      expr = _parse_basic_expr()\n",
        "      return Unary(op, expr)\n",
        "\n",
        "  def _parse_expr():\n",
        "    if len(tokens) == 0:\n",
        "      raise FormulaParseError(\"Expression cannot be empty\")\n",
        "\n",
        "    arithmetic = []\n",
        "\n",
        "    while True:\n",
        "      basic = _parse_basic_expr()\n",
        "      if basic is not None:\n",
        "        arithmetic.append(basic)\n",
        "      else:\n",
        "        raise FormulaParseError(\"Expected a number, a boolean, a cell, a range, or a function call\")\n",
        "\n",
        "      if len(tokens) == 0 or tokens[0] == \",\" or tokens[0] == \")\":\n",
        "        break\n",
        "\n",
        "      arithmetic.append(_parse_op())\n",
        "\n",
        "    # resolve precedence according to\n",
        "    # https://support.microsoft.com/en-us/office/calculation-operators-and-precedence\n",
        "    # -in-excel-48be406d-4975-4d31-b2b8-7af9e0e2878a\n",
        "\n",
        "    level = { \"%\": 0, \"^\": 1, \"*\": 2, \"/\": 2, \"+\": 3, \"-\": 3, \"=\": 4, \"<\": 4, \">\": 4,\n",
        "              \"<=\": 4, \">=\": 4, \"<>\": 4 }\n",
        "\n",
        "    # Ugh, I don't want to think about this...\n",
        "    while len(arithmetic) != 1:\n",
        "      min_i = 1\n",
        "      for i in range(1, len(arithmetic), 2):\n",
        "        if level[arithmetic[i]] < level[arithmetic[min_i]]:\n",
        "          min_i = i\n",
        "      arithmetic = arithmetic[0:min_i-1] \\\n",
        "                   + [Binary(arithmetic[min_i-1], arithmetic[min_i], arithmetic[min_i+1])] \\\n",
        "                   + arithmetic[min_i+2:]\n",
        "\n",
        "    return arithmetic[0]\n",
        "\n",
        "  expr = _parse_expr()\n",
        "\n",
        "  if len(tokens) > 0:\n",
        "    raise FormulaParseError(\"Multiple formulas provided\")\n",
        "\n",
        "  return expr\n",
        "\n",
        "def parse(code):\n",
        "  tokens = _tokenize(code)\n",
        "  return _parse(tokens)"
      ]
    },
    {
      "cell_type": "markdown",
      "source": [
        "### String Function: Converts Abstract Syntax Tree (AST) back to String"
      ],
      "metadata": {
        "id": "MH71poz2fK0d"
      }
    },
    {
      "cell_type": "markdown",
      "source": [
        "The ast_to_string function is designed to convert an Abstract Syntax Tree (AST) back into a string representation of an Excel formula. It takes an AST node and optionally a parent node as input, and returns the string representation of that node."
      ],
      "metadata": {
        "id": "1MYgKj-c1QpL"
      }
    },
    {
      "cell_type": "code",
      "source": [
        "# Function that converts Abstract Syntax Tree (AST) back to String.\n",
        "def ast_to_string(node, parent=None):\n",
        "\n",
        "    if isinstance(node, Function):\n",
        "        # If node is a Function, iterate through all arguments and convert them to a string. Joins these strings with commas.\n",
        "        # The function name is then combined with these arguments enclosed in parentheses.\n",
        "        args_string = ', '.join(ast_to_string(arg, node) for arg in node.arguments)\n",
        "        return f\"{node.func_name}({args_string})\"\n",
        "\n",
        "    elif isinstance(node, CellRange):\n",
        "        # If the node is a CellRange, it converts the start and end cells of the range to their string representations and joins them with a colon like \"A1:B2\".\n",
        "        return f\"{ast_to_string(node.start, node)}:{ast_to_string(node.end, node)}\"\n",
        "\n",
        "    elif isinstance(node, Cell):\n",
        "        # If the node is a Cell, it converts the cell to its string representation like \"A1\".\n",
        "        return f\"{node.col}{node.row}\"\n",
        "\n",
        "    elif isinstance(node, Name):\n",
        "        # If the node is a Name/Identifier (like a named range or variable), it converts the Name/Identifier to a string.\n",
        "        return node.name\n",
        "\n",
        "    elif isinstance(node, Number):\n",
        "        # If the node is a Number, it converts the number to a string.\n",
        "        return str(node.value)\n",
        "\n",
        "    elif isinstance(node, Logical):\n",
        "        # If the node is a Logical (boolean value), it converts it to a string (\"TRUE\" or \"FALSE\").\n",
        "        return \"TRUE\" if node.value else \"FALSE\"\n",
        "\n",
        "    elif isinstance(node, Binary):\n",
        "        # If the node is a Binary operation (like addition, subtraction), it converts both the left and right operands to strings and joins them with the operator (e.g., \"A1 + B1\").\n",
        "        # If this binary operation is not the top-level operation (has a parent), it encloses the operation in parentheses.\n",
        "        left = ast_to_string(node.left, node)\n",
        "        right = ast_to_string(node.right, node)\n",
        "        operation = f\"{left}{node.op}{right}\"\n",
        "        if parent is None:\n",
        "            return operation\n",
        "        else:\n",
        "            return f\"({operation})\"\n",
        "\n",
        "    elif isinstance(node, Unary):\n",
        "        # If the node is a Unary operation, it converts the operand to a string and precedes it with the unary operator (e.g., \"-A1\").\n",
        "        return f\"{node.op}{ast_to_string(node.expr, node)}\"\n",
        "\n",
        "    else:\n",
        "        # If the node type is not recognized, it raises an error.\n",
        "        raise ValueError(f\"Unsupported AST node type: {type(node)}\")\n"
      ],
      "metadata": {
        "id": "Juy0C8iDLp41"
      },
      "execution_count": 111,
      "outputs": []
    },
    {
      "cell_type": "markdown",
      "source": [],
      "metadata": {
        "id": "4umPSadrBqy4"
      }
    },
    {
      "cell_type": "markdown",
      "source": [
        "The test function should check whether the merging function merges correctly according to our defined rules and is commutative, idempotent and associative."
      ],
      "metadata": {
        "id": "m9wzkCR3B6qs"
      }
    },
    {
      "cell_type": "code",
      "source": [
        "# Test function that tests various properties (merging, commutativity, idempotency, and associativity) of the merge_function to ensure its correctness.\n",
        "def test_merge_function(user1_formula, user2_formula, expected_merged_formula):\n",
        "\n",
        "    # Merging the two user formulas.\n",
        "    actual_merged_formula = merge_function(user1_formula, user2_formula)\n",
        "\n",
        "    # Test if the merging worked correctly.\n",
        "    if actual_merged_formula != expected_merged_formula:\n",
        "        print(f\"Test failed: Merging {user1_formula} and {user2_formula} produced {actual_merged_formula}, expected {expected_merged_formula}\")\n",
        "        return False\n",
        "    else:\n",
        "        print(\"Merging test passed.\")\n",
        "\n",
        "    # Test Commutative Property: merge_function(a, b) == merge_function(b, a).\n",
        "    # Meaning the order of the inputs should not affect the outcome.\n",
        "    if merge_function(user1_formula, user2_formula) != merge_function(user2_formula, user1_formula):\n",
        "        print(\"Test failed: Merge function is not commutative.\")\n",
        "        return False\n",
        "    else:\n",
        "        print(\"Commutative property test passed.\")\n",
        "\n",
        "    # Test Idempotent Property: merge_function(a, a) == a.\n",
        "    # Meaning merging a formula with itself should yield the original formula.\n",
        "    # Test Idempotent Property with user1_formula: merge_function(a, a) == a\n",
        "    if merge_function(user1_formula, user1_formula) != user1_formula:\n",
        "        print(f\"Test failed: Merge function is not idempotent with {user1_formula}.\")\n",
        "        return False\n",
        "    else:\n",
        "        print(f\"Idempotent property test passed with {user1_formula}.\")\n",
        "\n",
        "    # Test Idempotent Property with user2_formula: merge_function(b, b) == b\n",
        "    if merge_function(user2_formula, user2_formula) != user2_formula:\n",
        "        print(f\"Test failed: Merge function is not idempotent with {user2_formula}.\")\n",
        "        return False\n",
        "    else:\n",
        "        print(f\"Idempotent property test passed with {user2_formula}.\")\n",
        "\n",
        "    # Test Associative Property: merge_function(a, merge_function(b, c)) == merge_function(merge_function(a, b), c).\n",
        "    # Meaning the grouping of operations does not change the result.\n",
        "    # For simplicity, using the same formula for b and c.\n",
        "    if merge_function(user1_formula, merge_function(user2_formula, user2_formula)) != merge_function(merge_function(user1_formula, user2_formula), user2_formula):\n",
        "        print(\"Test failed: Merge function is not associative.\")\n",
        "        return False\n",
        "    else:\n",
        "        print(\"Associative property test passed.\")\n",
        "\n",
        "    # If all tests are passed, the function returns True.\n",
        "    return True"
      ],
      "metadata": {
        "id": "_qdVVHGqBuoI"
      },
      "execution_count": 112,
      "outputs": []
    },
    {
      "cell_type": "code",
      "source": [
        "def test_all_merge_functions(test_cases):\n",
        "    # Takes a list of test cases, each as a tuple of (user1_formula, user2_formula, merged_formula)\n",
        "\n",
        "    all_tests_passed = True\n",
        "\n",
        "    for user1_formula, user2_formula, expected_merged_formula in test_cases:\n",
        "        # Basic Merge Test\n",
        "        actual_merged_formula = merge_function(user1_formula, user2_formula)\n",
        "        if actual_merged_formula != expected_merged_formula:\n",
        "            print(f\"Test failed for formulas '{user1_formula}' and '{user2_formula}'. Expected '{expected_merged_formula}', got '{actual_merged_formula}'.\")\n",
        "            all_tests_passed = False\n",
        "            break\n",
        "\n",
        "        # Commutative Property Test\n",
        "        if merge_function(user1_formula, user2_formula) != merge_function(user2_formula, user1_formula):\n",
        "            print(f\"Commutative test failed for formulas '{user1_formula}' and '{user2_formula}'.\")\n",
        "            all_tests_passed = False\n",
        "            break\n",
        "\n",
        "        # Idempotent Property Test\n",
        "        if merge_function(user1_formula, user1_formula) != user1_formula or merge_function(user2_formula, user2_formula) != user2_formula:\n",
        "            print(f\"Idempotent test failed for formulas '{user1_formula}' or '{user2_formula}'.\")\n",
        "            all_tests_passed = False\n",
        "            break\n",
        "\n",
        "        # Associative Property Test\n",
        "        # This is a simplified version and might need adjustment depending on the complexity of your merge function\n",
        "        if merge_function(user1_formula, merge_function(user2_formula, user2_formula)) != merge_function(merge_function(user1_formula, user2_formula), user2_formula):\n",
        "            print(f\"Associative test failed for formulas '{user1_formula}', '{user2_formula}'.\")\n",
        "            all_tests_passed = False\n",
        "            break\n",
        "\n",
        "    if all_tests_passed:\n",
        "        print(\"All merge function tests passed successfully for all test cases.\")"
      ],
      "metadata": {
        "id": "yD5RhWglCA8U"
      },
      "execution_count": 113,
      "outputs": []
    },
    {
      "cell_type": "markdown",
      "source": [
        "### Merging Function: Merges two Excel Formulas Together"
      ],
      "metadata": {
        "id": "NJxNRVXIBHXg"
      }
    },
    {
      "cell_type": "markdown",
      "source": [
        "The merge_function is designed to merge two Excel formulas represented as strings into a single formula. It first parses these formula strings into Abstract Syntax Trees (ASTs), then merges these ASTs based on certain rules, and finally converts the merged AST back into a string.\n",
        "\n",
        "This is the main Part of our Project. It's a work in Progress and here we try to implement the Merging rules we defined to come up in the end with a complex merging function that works on a variety of cases."
      ],
      "metadata": {
        "id": "KpzyTTFC9GS8"
      }
    },
    {
      "cell_type": "code",
      "source": [
        "# Function that merges two Excel String Formulas.\n",
        "def merge_function(user1_formula, user2_formula):\n",
        "    # Direct Return for Identical Formulas:\n",
        "    # If both input formulas are exactly the same, return one of them immediately.\n",
        "    # This prevents unnecessary processing and keeps the formula unchanged.\n",
        "    if user1_formula == user2_formula:\n",
        "        return user1_formula\n",
        "\n",
        "    # Check if one formula is a superset of the other.\n",
        "    # If user2_formula contains user1_formula as a subset, return user2_formula.\n",
        "    if user1_formula in user2_formula:\n",
        "        return user2_formula\n",
        "\n",
        "    # Similarly, if user1_formula contains user2_formula as a subset, return user1_formula.\n",
        "    if user2_formula in user1_formula:\n",
        "        return user1_formula\n",
        "\n",
        "    # Commutativity Support:\n",
        "    # If the first formula is longer than the second, they are swapped.\n",
        "    # This ensures that the function works the same regardless of the order of the inputs.\n",
        "    if len(user1_formula) > len(user2_formula):\n",
        "        user1_formula, user2_formula = user2_formula, user1_formula\n",
        "\n",
        "    # Parsing:\n",
        "    # Both formulas are parsed into Abstrac Styntax Trees (ASTs).\n",
        "    user1_ast = parse(user1_formula)\n",
        "    user2_ast = parse(user2_formula)\n",
        "\n",
        "    def col_name_to_number(col):\n",
        "      \"\"\"Converts an Excel column name to a number (e.g., 'A' -> 1, 'Z' -> 26, 'AA' -> 27).\"\"\"\n",
        "      number = 0\n",
        "      for char in col:\n",
        "          number = number * 26 + (ord(char.upper()) - ord('A') + 1)\n",
        "      return number\n",
        "\n",
        "    def merge_sum_ranges(ast1, ast2):\n",
        "    # Check if both AST nodes are functions\n",
        "      if isinstance(ast1, Function) and isinstance(ast2, Function):\n",
        "        # Combine all arguments (ranges) from both functions, ensuring they are cell ranges\n",
        "        all_ranges = [arg for arg in ast1.arguments if isinstance(arg, CellRange)] + \\\n",
        "                     [arg for arg in ast2.arguments if isinstance(arg, CellRange)]\n",
        "\n",
        "        # Check if there are multiple ranges\n",
        "        if len(all_ranges) > 1:\n",
        "            # Sort ranges based on column and row\n",
        "            sorted_ranges = sorted(all_ranges, key=lambda x: (col_name_to_number(x.start.col), x.start.row))\n",
        "\n",
        "            # Merge adjacent or overlapping ranges\n",
        "            merged_ranges = []\n",
        "            current_range = sorted_ranges[0]\n",
        "            for next_range in sorted_ranges[1:]:\n",
        "                if current_range.end.col == next_range.start.col and current_range.end.row + 1 >= next_range.start.row:\n",
        "                    # Extend the current range\n",
        "                    current_range = CellRange(current_range.start, Cell(current_range.end.col, max(current_range.end.row, next_range.end.row)))\n",
        "                else:\n",
        "                    # Add the current range and move to the next one\n",
        "                    merged_ranges.append(current_range)\n",
        "                    current_range = next_range\n",
        "            merged_ranges.append(current_range)  # Add the last range\n",
        "\n",
        "            # Check if multiple ranges still exist after merging\n",
        "            if len(merged_ranges) > 1:\n",
        "                return Function(ast1.func_name, merged_ranges)\n",
        "            else:\n",
        "                # Only one merged range, return it\n",
        "                return Function(ast1.func_name, [merged_ranges[0]])\n",
        "\n",
        "        # If only one range present or ranges are the same, handle as before\n",
        "        range1 = ast1.arguments[0]\n",
        "        range2 = ast2.arguments[0]\n",
        "        start_row = min(range1.start.row, range2.start.row)\n",
        "        end_row = max(range1.end.row, range2.end.row)\n",
        "        start_col = min(range1.start.col, range2.start.col, key=lambda x: col_name_to_number(x))\n",
        "        end_col = max(range1.end.col, range2.end.col, key=lambda x: col_name_to_number(x))\n",
        "\n",
        "        # Creating the merged range\n",
        "        merged_range = CellRange(Cell(start_col, start_row), Cell(end_col, end_row))\n",
        "        return Function(ast1.func_name, [merged_range])\n",
        "\n",
        "      return None\n",
        "\n",
        "    def is_same_operation(ast1, ast2):\n",
        "        # Checks if the same operation (like division) is applied on both ASTs to redundant application of the same operation.\n",
        "        return isinstance(ast1, Binary) and isinstance(ast2, Binary) and ast1.op == ast2.op\n",
        "\n",
        "    def apply_additional_operation(merged_ast, original_ast):\n",
        "        # Applies additional operations (like division) found in the original ASTs to the merged SUM.\n",
        "        # It ensures not to duplicate an operation if it's already applied.\n",
        "        if isinstance(original_ast, Binary) and isinstance(original_ast.left, Function) and original_ast.left.func_name == 'SUM':\n",
        "            if is_same_operation(merged_ast, original_ast):\n",
        "                # If the same operation is already applied, don't apply it again.\n",
        "                return merged_ast\n",
        "            return Binary(merged_ast, original_ast.op, original_ast.right)\n",
        "        return merged_ast\n",
        "\n",
        "    def merge_operations(ast1, ast2):\n",
        "        # Checks if both ast1 and ast2 are Binary nodes (like A + B, C - D) and have the same operator (e.g., both '+'). If so, it attempts to merge these binary operations.\n",
        "        if isinstance(ast1, Binary) and isinstance(ast2, Binary) and ast1.op == ast2.op:\n",
        "            # It calls merge_ast on the left children (operands) of both ASTs.This recursively merges the left side of the binary operations.\n",
        "            merged_left = merge_ast(ast1.left, ast2.left)\n",
        "            # It calls merge_ast on the right children (operands) of both ASTs. This merges the right side of the binary operations.\n",
        "            merged_right = merge_ast(ast1.right, ast2.right)\n",
        "            # After merging the left and right operands, it creates a new Binary node with these merged operands\n",
        "            return Binary(merged_left, ast1.op, merged_right)\n",
        "        # If the ASTs don't represent the same binary operation, the function returns the first AST (ast1).\n",
        "        return ast1\n",
        "\n",
        "    def merge_ast(ast1, ast2):\n",
        "        # Core function to merge two ASTs using merge_ast and merge_operations. It first merges the SUM ranges and then applies any additional operations.\n",
        "        # Check and merge function ranges if present\n",
        "        # First, try merging function ranges (e.g., SUM ranges)\n",
        "        merged_sum = merge_sum_ranges(ast1, ast2) or ast1\n",
        "        merged_ast = apply_additional_operation(merged_sum, ast1)\n",
        "        return apply_additional_operation(merged_ast, ast2)\n",
        "\n",
        "    # Performing the merge operation (commutativity & associativity)\n",
        "    user1_ast_merged = merge_ast(user1_ast, user2_ast) # merge_ast is called with user1_ast and user2_ast as arguments.\n",
        "    user2_ast_merged = merge_ast(user2_ast, user1_ast) # merge_ast is called again, but this time the order of the ASTs is reversed.\n",
        "    merged_ast = merge_operations(user1_ast_merged, user2_ast_merged) # Finally, merge_operations is called with the two merged ASTs (user1_ast_merged and user2_ast_merged).\n",
        "\n",
        "    # Convert the merged AST back to a string representation of the formula.\n",
        "    return ast_to_string(merged_ast)"
      ],
      "metadata": {
        "id": "ne4oAY3dMwyx"
      },
      "execution_count": 114,
      "outputs": []
    },
    {
      "cell_type": "markdown",
      "source": [
        "### Parser Errors:\n",
        "\n",
        "\n",
        "\n",
        "\n"
      ],
      "metadata": {
        "id": "OjCALZ8aiAu1"
      }
    },
    {
      "cell_type": "code",
      "source": [
        "#PARSER ERRORS\n",
        "error1 = \"SUM(A2:A9)+SUM(SUM(B1:B5):C1)\"\n",
        "error2 = \"SUM(A2:A9)+(B1-B2)*C3\"\n",
        "error3 = \"SUM($A$2:A9)\"\n",
        "error4 = \"SUM($A2:A9)\"\n",
        "error5 = \"SUM(Z50:Z211)\""
      ],
      "metadata": {
        "id": "h2PXmZjbMgrS"
      },
      "execution_count": 115,
      "outputs": []
    },
    {
      "cell_type": "code",
      "source": [
        "# Check Parser\n",
        "parse(\"SUM(XFD55:XFD65)\")"
      ],
      "metadata": {
        "colab": {
          "base_uri": "https://localhost:8080/"
        },
        "id": "stm1MzRBODla",
        "outputId": "5abb4cf4-9d7c-4a5b-abe9-d237926dd00a"
      },
      "execution_count": 116,
      "outputs": [
        {
          "output_type": "execute_result",
          "data": {
            "text/plain": [
              "Func[SUM][1][Range[Cell[XFD55]][Cell[XFD65]]]"
            ]
          },
          "metadata": {},
          "execution_count": 116
        }
      ]
    },
    {
      "cell_type": "markdown",
      "source": [
        "### Merge Two Formulas: Example of Using the Merging Function"
      ],
      "metadata": {
        "id": "izbzHRYrNxpB"
      }
    },
    {
      "cell_type": "code",
      "source": [
        "# Rule 5: Different Cell References - If the cell reference of  the letters of both users varies take both references and combine them.\n",
        "user1_formula_5a = \"SUM(A1:A5, B1:B5)\" # Input 1\n",
        "user2_formula_5a = \"SUM(C1:C5)\" # Input 2\n",
        "merged_formula_5a = \"SUM(A1:A5, B1:B5, C1:C5)\" # Output\n",
        "current_output_5a = \"SUM(A1:A5, C1:C5)\" # Wrong output at the moment\n",
        "\n",
        "user1_formula_5b = \"SUM(D1:D10)\" # Input 1\n",
        "user2_formula_5b = \"SUM(E1:E10, F1:F10)\" # Input 2\n",
        "merged_formula_5b = \"SUM(D1:D10, E1:E10, F1:F10)\" # Output\n",
        "current_output_5b = \"SUM(D1:D10, E1:E10)\" # Wrong output at the moment\n",
        "\n",
        "user1_formula_5c = \"SUM(B10:B15)\" # Input 1\n",
        "user2_formula_5c = \"SUM(B20:B25)\" # Input 2\n",
        "merged_formula_5c = \"SUM(B10:B15, B20:B25)\" # Output\n",
        "current_output_5c = \"SUM(B10:B25)\" # Wrong output at the moment\n"
      ],
      "metadata": {
        "id": "ciINZcRsOCH1"
      },
      "execution_count": 117,
      "outputs": []
    },
    {
      "cell_type": "code",
      "source": [
        "# Apply the merge function on the two user formulas\n",
        "merge_function(user1_formula_5a, user2_formula_5a)"
      ],
      "metadata": {
        "colab": {
          "base_uri": "https://localhost:8080/",
          "height": 35
        },
        "id": "j0D7NBv7x2IU",
        "outputId": "8011dc0e-db8b-4d5d-ea7a-b879c0b032c4"
      },
      "execution_count": 118,
      "outputs": [
        {
          "output_type": "execute_result",
          "data": {
            "text/plain": [
              "'SUM(A1:A5, B1:B5, C1:C5)'"
            ],
            "application/vnd.google.colaboratory.intrinsic+json": {
              "type": "string"
            }
          },
          "metadata": {},
          "execution_count": 118
        }
      ]
    },
    {
      "cell_type": "code",
      "source": [
        "# Apply the merge function commutatively on the two user formulas\n",
        "merge_function(user2_formula_5a, user1_formula_5a)"
      ],
      "metadata": {
        "colab": {
          "base_uri": "https://localhost:8080/",
          "height": 35
        },
        "id": "95YD2PI3y6r8",
        "outputId": "f5cee1fa-0777-4c9f-f101-75e790a5d1dd"
      },
      "execution_count": 119,
      "outputs": [
        {
          "output_type": "execute_result",
          "data": {
            "text/plain": [
              "'SUM(A1:A5, B1:B5, C1:C5)'"
            ],
            "application/vnd.google.colaboratory.intrinsic+json": {
              "type": "string"
            }
          },
          "metadata": {},
          "execution_count": 119
        }
      ]
    },
    {
      "cell_type": "code",
      "source": [
        "output_merge_function = merge_function(user1_formula_5a, user2_formula_5a)\n",
        "output_merge_function_commutative = merge_function(user2_formula_5a, user1_formula_5a)"
      ],
      "metadata": {
        "id": "a3aO4SZ_zbm0"
      },
      "execution_count": 120,
      "outputs": []
    },
    {
      "cell_type": "code",
      "source": [
        "merged_formula_5a==output_merge_function==output_merge_function_commutative"
      ],
      "metadata": {
        "colab": {
          "base_uri": "https://localhost:8080/"
        },
        "id": "vgmEF5fEx9UN",
        "outputId": "8c4d5e0d-4386-44bd-cad2-37ea1d62a0b7"
      },
      "execution_count": 121,
      "outputs": [
        {
          "output_type": "execute_result",
          "data": {
            "text/plain": [
              "True"
            ]
          },
          "metadata": {},
          "execution_count": 121
        }
      ]
    },
    {
      "cell_type": "code",
      "source": [
        "print(merged_formula_5a)\n",
        "print(output_merge_function)\n",
        "print(output_merge_function_commutative)"
      ],
      "metadata": {
        "colab": {
          "base_uri": "https://localhost:8080/"
        },
        "id": "56WnvqjwKe-M",
        "outputId": "4b85cf7b-0ae4-478f-839a-e21cbdf078f9"
      },
      "execution_count": 122,
      "outputs": [
        {
          "output_type": "stream",
          "name": "stdout",
          "text": [
            "SUM(A1:A5, B1:B5, C1:C5)\n",
            "SUM(A1:A5, B1:B5, C1:C5)\n",
            "SUM(A1:A5, B1:B5, C1:C5)\n"
          ]
        }
      ]
    },
    {
      "cell_type": "markdown",
      "source": [
        "### Test function: Implement a Test function (commutative, idempotent and associative)"
      ],
      "metadata": {
        "id": "sLhD9dg9GjG9"
      }
    },
    {
      "cell_type": "markdown",
      "source": [
        "The test function should check whether the merging function merges correctly according to our defined rules and is commutative, idempotent and associative."
      ],
      "metadata": {
        "id": "5IRNAVpFHN_c"
      }
    },
    {
      "cell_type": "code",
      "source": [
        "# Test function that tests various properties (merging, commutativity, idempotency, and associativity) of the merge_function to ensure its correctness.\n",
        "def test_merge_function(user1_formula, user2_formula, expected_merged_formula):\n",
        "\n",
        "    # Merging the two user formulas.\n",
        "    actual_merged_formula = merge_function(user1_formula, user2_formula)\n",
        "\n",
        "    # Test if the merging worked correctly.\n",
        "    if actual_merged_formula != expected_merged_formula:\n",
        "        print(f\"Test failed: Merging {user1_formula} and {user2_formula} produced {actual_merged_formula}, expected {expected_merged_formula}\")\n",
        "        return False\n",
        "    else:\n",
        "        print(\"Merging test passed.\")\n",
        "\n",
        "    # Test Commutative Property: merge_function(a, b) == merge_function(b, a).\n",
        "    # Meaning the order of the inputs should not affect the outcome.\n",
        "    if merge_function(user1_formula, user2_formula) != merge_function(user2_formula, user1_formula):\n",
        "        print(\"Test failed: Merge function is not commutative.\")\n",
        "        return False\n",
        "    else:\n",
        "        print(\"Commutative property test passed.\")\n",
        "\n",
        "    # Test Idempotent Property: merge_function(a, a) == a.\n",
        "    # Meaning merging a formula with itself should yield the original formula.\n",
        "    # Test Idempotent Property with user1_formula: merge_function(a, a) == a\n",
        "    if merge_function(user1_formula, user1_formula) != user1_formula:\n",
        "        print(f\"Test failed: Merge function is not idempotent with {user1_formula}.\")\n",
        "        return False\n",
        "    else:\n",
        "        print(f\"Idempotent property test passed with {user1_formula}.\")\n",
        "\n",
        "    # Test Idempotent Property with user2_formula: merge_function(b, b) == b\n",
        "    if merge_function(user2_formula, user2_formula) != user2_formula:\n",
        "        print(f\"Test failed: Merge function is not idempotent with {user2_formula}.\")\n",
        "        return False\n",
        "    else:\n",
        "        print(f\"Idempotent property test passed with {user2_formula}.\")\n",
        "\n",
        "    # Test Associative Property: merge_function(a, merge_function(b, c)) == merge_function(merge_function(a, b), c).\n",
        "    # Meaning the grouping of operations does not change the result.\n",
        "    # For simplicity, using the same formula for b and c.\n",
        "    if merge_function(user1_formula, merge_function(user2_formula, user2_formula)) != merge_function(merge_function(user1_formula, user2_formula), user2_formula):\n",
        "        print(\"Test failed: Merge function is not associative.\")\n",
        "        return False\n",
        "    else:\n",
        "        print(\"Associative property test passed.\")\n",
        "\n",
        "    # If all tests are passed, the function returns True.\n",
        "    return True"
      ],
      "metadata": {
        "id": "bYc8FcgYGkpj"
      },
      "execution_count": 123,
      "outputs": []
    },
    {
      "cell_type": "code",
      "source": [
        "def test_all_merge_functions(test_cases):\n",
        "    # Takes a list of test cases, each as a tuple of (user1_formula, user2_formula, merged_formula)\n",
        "\n",
        "    all_tests_passed = True\n",
        "\n",
        "    for user1_formula, user2_formula, expected_merged_formula in test_cases:\n",
        "        # Basic Merge Test\n",
        "        actual_merged_formula = merge_function(user1_formula, user2_formula)\n",
        "        if actual_merged_formula != expected_merged_formula:\n",
        "            print(f\"Test failed for formulas '{user1_formula}' and '{user2_formula}'. Expected '{expected_merged_formula}', got '{actual_merged_formula}'.\")\n",
        "            all_tests_passed = False\n",
        "            break\n",
        "\n",
        "        # Commutative Property Test\n",
        "        if merge_function(user1_formula, user2_formula) != merge_function(user2_formula, user1_formula):\n",
        "            print(f\"Commutative test failed for formulas '{user1_formula}' and '{user2_formula}'.\")\n",
        "            all_tests_passed = False\n",
        "            break\n",
        "\n",
        "        # Idempotent Property Test\n",
        "        if merge_function(user1_formula, user1_formula) != user1_formula or merge_function(user2_formula, user2_formula) != user2_formula:\n",
        "            print(f\"Idempotent test failed for formulas '{user1_formula}' or '{user2_formula}'.\")\n",
        "            all_tests_passed = False\n",
        "            break\n",
        "\n",
        "        # Associative Property Test\n",
        "        # This is a simplified version and might need adjustment depending on the complexity of your merge function\n",
        "        if merge_function(user1_formula, merge_function(user2_formula, user2_formula)) != merge_function(merge_function(user1_formula, user2_formula), user2_formula):\n",
        "            print(f\"Associative test failed for formulas '{user1_formula}', '{user2_formula}'.\")\n",
        "            all_tests_passed = False\n",
        "            break\n",
        "\n",
        "    if all_tests_passed:\n",
        "        print(\"All merge function tests passed successfully for all test cases.\")\n"
      ],
      "metadata": {
        "id": "_d65MpwxHA6m"
      },
      "execution_count": 124,
      "outputs": []
    },
    {
      "cell_type": "markdown",
      "source": [
        "### Test Different Merging Rules & Merging Examples"
      ],
      "metadata": {
        "id": "FT24YpYruroC"
      }
    },
    {
      "cell_type": "code",
      "source": [
        "error_1 = (\"SUM(A2:A9)\", \"SUM(A2:A9)+SUM(SUM(B1:B5):C1)\", \"SUM(A2:A9)+SUM(SUM(B1:B5):C1)\")\n",
        "error_2 = (\"SUM(A2:A9)\", \"SUM(A2:A9)+(B1-B2)*C3\", \"SUM(A2:A9)+(B1-B2)*C3\")"
      ],
      "metadata": {
        "id": "2He6wTxqlVyK"
      },
      "execution_count": 125,
      "outputs": []
    },
    {
      "cell_type": "code",
      "source": [
        "# Rule 1: Identical Formulas - If both users have the same formula, the merged output should be the formula.\n",
        "user1_formula_1 = \"SUM(A2:A9)*5\" # Input 1\n",
        "user2_formula_1 = \"SUM(A2:A9)*5\" # Input 2\n",
        "merged_formula_1 = \"SUM(A2:A9)*5\" # Output\n",
        "\n",
        "test_cases = [\n",
        "        (\"SUM(A2:A9)*5\", \"SUM(A2:A9)*5\", \"SUM(A2:A9)*5\"),\n",
        "        ('1+2+3', '1+2+3', '1+2+3'),\n",
        "        ('A1+B2+A3', 'A1+B2+A3', 'A1+B2+A3'),\n",
        "        ('3-2+6', '3-2+6', '3-2+6'),\n",
        "        ('3-2+6*2', '3-2+6*2', '3-2+6*2'),\n",
        "        ('3/2+6*2', '3/2+6*2', '3/2+6*2'),\n",
        "        ('3/2+6*2-2+5+3-1', '3/2+6*2-2+5+3-1', '3/2+6*2-2+5+3-1'),\n",
        "        ('A1/B2+C6*A2-E2+D5+B3-A1', 'A1/B2+C6*A2-E2+D5+B3-A1', 'A1/B2+C6*A2-E2+D5+B3-A1')\n",
        "    ]\n",
        "\n",
        "# Test if this rule works\n",
        "test_merge_function(user1_formula_1, user2_formula_1, merged_formula_1)\n",
        "\n",
        "# Call the test function\n",
        "test_all_merge_functions(test_cases)"
      ],
      "metadata": {
        "colab": {
          "base_uri": "https://localhost:8080/"
        },
        "id": "LkuF3yxSuzDn",
        "outputId": "cb1c5f89-f705-4ac9-c84e-bf422b179943"
      },
      "execution_count": 126,
      "outputs": [
        {
          "output_type": "stream",
          "name": "stdout",
          "text": [
            "Merging test passed.\n",
            "Commutative property test passed.\n",
            "Idempotent property test passed with SUM(A2:A9)*5.\n",
            "Idempotent property test passed with SUM(A2:A9)*5.\n",
            "Associative property test passed.\n",
            "All merge function tests passed successfully for all test cases.\n"
          ]
        }
      ]
    },
    {
      "cell_type": "code",
      "source": [
        "# Rule 2: Varying Cell Range - If the cell range of both users varies take the max of the start and end cell when defining the range.\n",
        "user1_formula_2 = \"SUM(A1:A9)\" # Input 1\n",
        "user2_formula_2 = \"SUM(A2:A10)\" # Input 2\n",
        "merged_formula_2 = \"SUM(A1:A10)\" # Output\n",
        "\n",
        "test_cases = [\n",
        "    # Test cases with varying ranges in the SUM function\n",
        "    (\"SUM(A1:A9)\", \"SUM(A2:A10)\", \"SUM(A1:A10)\"),\n",
        "    (\"SUM(B1:B5)\", \"SUM(B3:B8)\", \"SUM(B1:B8)\"),\n",
        "    (\"SUM(C10:C20)\", \"SUM(C15:C25)\", \"SUM(C10:C25)\"),\n",
        "    (\"SUM(D50:D60)\", \"SUM(D55:D65)\", \"SUM(D50:D65)\"),\n",
        "\n",
        "    # Test cases with varying ranges in multi-letter column names\n",
        "    (\"SUM(Z100:Z211)\", \"SUM(Z50:Z111)\", \"SUM(Z50:Z211)\"),\n",
        "    (\"SUM(AA1:AA5)\", \"SUM(AA4:AA10)\", \"SUM(AA1:AA10)\"),\n",
        "    (\"SUM(BC10:BC20)\", \"SUM(BC15:BC25)\", \"SUM(BC10:BC25)\"),\n",
        "    (\"SUM(XFD50:XFD60)\", \"SUM(XFD55:XFD65)\", \"SUM(XFD50:XFD65)\"),\n",
        "\n",
        "    # Test cases with varying ranges and additional operations\n",
        "    (\"SUM(E1:E5)*2\", \"SUM(E3:E10)\", \"SUM(E1:E10)*2\"),\n",
        "    (\"SUM(F1:F10)+SUM(Z11:Z20)\", \"SUM(F2:F12)+SUM(Z9:Z18)\", \"SUM(F1:F12)+SUM(Z9:Z20)\"),\n",
        "    (\"SUM(G10:G20)-5\", \"SUM(G15:G25)\", \"SUM(G10:G25)-5\"),\n",
        "]\n",
        "\n",
        "# Test if this rule works\n",
        "test_merge_function(user1_formula_2, user2_formula_2, merged_formula_2)\n",
        "\n",
        "# Run the test function with the defined test cases\n",
        "test_all_merge_functions(test_cases)"
      ],
      "metadata": {
        "colab": {
          "base_uri": "https://localhost:8080/"
        },
        "id": "EqDyDstuvWa3",
        "outputId": "61f73982-a0c6-4eb9-8a5c-da194b5827a5"
      },
      "execution_count": 127,
      "outputs": [
        {
          "output_type": "stream",
          "name": "stdout",
          "text": [
            "Merging test passed.\n",
            "Commutative property test passed.\n",
            "Idempotent property test passed with SUM(A1:A9).\n",
            "Idempotent property test passed with SUM(A2:A10).\n",
            "Associative property test passed.\n",
            "All merge function tests passed successfully for all test cases.\n"
          ]
        }
      ]
    },
    {
      "cell_type": "code",
      "source": [
        "# Rule 3: Node Appendage - If one user has appended something additional or new to the formula, add evrything that is additional and new.\n",
        "user1_formula_3 = \"SUM(A2:A9)\" # Input 1\n",
        "user2_formula_3 = \"SUM(A2:A9)*5\" # Input 2\n",
        "merged_formula_3 = \"SUM(A2:A9)*5\" # Output\n",
        "\n",
        "test_cases = [\n",
        "    # Simple appendages\n",
        "    (\"SUM(A2:A9)\", \"SUM(A2:A9)*5\", \"SUM(A2:A9)*5\"),\n",
        "    (\"SUM(A2:A9)\", \"SUM(A2:A9)+5\", \"SUM(A2:A9)+5\"),\n",
        "    (\"SUM(A2:A9)\", \"SUM(A2:A9)-5\", \"SUM(A2:A9)-5\"),\n",
        "    (\"SUM(A2:A9)\", \"SUM(A2:A9)/5\", \"SUM(A2:A9)/5\"),\n",
        "    (\"SUM(A2:A9)\", \"SUM(A2:A9)+5-1\", \"SUM(A2:A9)+5-1\"),\n",
        "    (\"SUM(A2:A9)\", \"SUM(A2:A9)*2-1\", \"SUM(A2:A9)*2-1\"),\n",
        "    (\"SUM(A2:A9)\", \"SUM(A2:A9)-1+3+4\", \"SUM(A2:A9)-1+3+4\"),\n",
        "\n",
        "    # Combining functions with different operations\n",
        "    (\"SUM(A2:A9)\", \"SUM(A2:A9)*SUM(B2:B9)\", \"SUM(A2:A9)*SUM(B2:B9)\"),\n",
        "    (\"A1+B1\", \"A1+B1-C1/D1\", \"A1+B1-C1/D1\"),\n",
        "    (\"2*3\", \"2*3+4/5-6\", \"2*3+4/5-6\"),\n",
        "    (\"SUM(A2:A9)\", \"SUM(A2:A9)+SUM(B1:B5)-C1\", \"SUM(A2:A9)+SUM(B1:B5)-C1\"),\n",
        "    (\"SUM(A1:A10)\", \"SUM(A1:A10)+A1\", \"SUM(A1:A10)+A1\"),\n",
        "    ('SUM(A2:A9)', 'SUM(A2:A9) + COUNT(A2:A9)', 'SUM(A2:A9) + COUNT(A2:A9)'),\n",
        "\n",
        "    # Nested functions\n",
        "    (\"MAX(A1:A10)\", \"MAX(A1:A10)+MIN(B1:B10)\", \"MAX(A1:A10)+MIN(B1:B10)\"),\n",
        "\n",
        "    # Complex appendages\n",
        "    (\"SUM(A2:A9)\", \"SUM(A2:A9)/SUM(B1:B10)\", \"SUM(A2:A9)/SUM(B1:B10)\"),\n",
        "    (\"1+2+3\", \"1+2+3+4*5/6\", \"1+2+3+4*5/6\"),\n",
        "    ('4*3+2-4', '4*3+2-4+3*5', '4*3+2-4+3*5'),\n",
        "    (\"A1+B1\", \"A1+B1+C1*D1-E1\", \"A1+B1+C1*D1-E1\"),\n",
        "    (\"SUM(X1:X10)\", \"SUM(X1:X10)-AVG(Y1:Y10)+MAX(Z1:Z10)\", \"SUM(X1:X10)-AVG(Y1:Y10)+MAX(Z1:Z10)\"),\n",
        "\n",
        "    # Combination Rule 2 & Rule 3: Node Appendage\n",
        "    ('SUM(A2:A10)', 'SUM(A2:A9)/B5', 'SUM(A2:A10)/B5')\n",
        "]\n",
        "\n",
        "# Test if this rule works\n",
        "test_merge_function(user1_formula_3, user2_formula_3, merged_formula_3)\n",
        "\n",
        "# Run the test function with the defined test cases\n",
        "test_all_merge_functions(test_cases)"
      ],
      "metadata": {
        "colab": {
          "base_uri": "https://localhost:8080/"
        },
        "id": "vgu7w3rfwC49",
        "outputId": "54f522f8-8692-47f0-f4a9-e698e1f81126"
      },
      "execution_count": 128,
      "outputs": [
        {
          "output_type": "stream",
          "name": "stdout",
          "text": [
            "Merging test passed.\n",
            "Commutative property test passed.\n",
            "Idempotent property test passed with SUM(A2:A9).\n",
            "Idempotent property test passed with SUM(A2:A9)*5.\n",
            "Associative property test passed.\n",
            "All merge function tests passed successfully for all test cases.\n"
          ]
        }
      ]
    },
    {
      "cell_type": "code",
      "source": [
        "# Rule 4: Varying Cell Range for General Functions - If the cell range of both users varies take the max of the start and end cell when defining the range.\n",
        "user1_formula_4 = \"MIN(A1:A9)\" # Input 1\n",
        "user2_formula_4 = \"MIN(A2:A10)\" # Input 2\n",
        "merged_formula_4 = \"MIN(A1:A10)\" # Output\n",
        "\n",
        "test_cases = [\n",
        "    # Test cases for the MIN function with varying ranges\n",
        "    (\"MIN(H1:H9)\", \"MIN(H2:H10)\", \"MIN(H1:H10)\"),\n",
        "    (\"MIN(I1:I5)\", \"MIN(I3:I8)\", \"MIN(I1:I8)\"),\n",
        "    (\"MIN(J10:J20)\", \"MIN(J15:J25)\", \"MIN(J10:J25)\"),\n",
        "    (\"MIN(K50:K60)\", \"MIN(K55:K65)\", \"MIN(K50:K65)\"),\n",
        "\n",
        "    # Test cases for the MAX function with varying ranges\n",
        "    (\"MAX(L1:L9)\", \"MAX(L2:L10)\", \"MAX(L1:L10)\"),\n",
        "    (\"MAX(M1:M5)\", \"MAX(M3:M8)\", \"MAX(M1:M8)\"),\n",
        "    (\"MAX(N10:N20)\", \"MAX(N15:N25)\", \"MAX(N10:N25)\"),\n",
        "    (\"MAX(O50:O60)\", \"MAX(O55:O65)\", \"MAX(O50:O65)\"),\n",
        "\n",
        "    # Test cases for the COUNT function with varying ranges\n",
        "    (\"COUNT(P1:P9)\", \"COUNT(P2:P10)\", \"COUNT(P1:P10)\"),\n",
        "    (\"COUNT(Q1:Q5)\", \"COUNT(Q3:Q8)\", \"COUNT(Q1:Q8)\"),\n",
        "    (\"COUNT(R10:R20)\", \"COUNT(R15:R25)\", \"COUNT(R10:R25)\"),\n",
        "    (\"COUNT(S50:S60)\", \"COUNT(S55:S65)\", \"COUNT(S50:S65)\"),\n",
        "\n",
        "    # Test cases with varying ranges and multiple functions\n",
        "    (\"MIN(T1:T5)+MAX(T6:T10)\", \"MIN(T3:T8)+MAX(T6:T11)\", \"MIN(T1:T8)+MAX(T6:T11)\"),\n",
        "    (\"COUNT(U1:U10)-SUM(U11:U20)\", \"COUNT(U1:U10)-SUM(U5:U15)\", \"COUNT(U1:U10)-SUM(U5:U20)\"),\n",
        "    (\"MAX(V10:V20)/MIN(V21:V30)\", \"MAX(V10:V20)/MIN(V15:V25)\", \"MAX(V10:V20)/MIN(V15:V30)\"),\n",
        "    (\"SUM(W50:W60)*COUNT(W61:W70)\", \"SUM(W50:W60)*COUNT(W55:W65)\", \"SUM(W50:W60)*COUNT(W55:W70)\"),\n",
        "]\n",
        "\n",
        "# Test if this rule works\n",
        "test_merge_function(user1_formula_3, user2_formula_3, merged_formula_3)\n",
        "\n",
        "# Run the test function with the defined test cases\n",
        "test_all_merge_functions(test_cases)"
      ],
      "metadata": {
        "colab": {
          "base_uri": "https://localhost:8080/"
        },
        "id": "QCiLwaW097M7",
        "outputId": "2dba9bf0-4dd1-4a24-882b-a9b04d633232"
      },
      "execution_count": 129,
      "outputs": [
        {
          "output_type": "stream",
          "name": "stdout",
          "text": [
            "Merging test passed.\n",
            "Commutative property test passed.\n",
            "Idempotent property test passed with SUM(A2:A9).\n",
            "Idempotent property test passed with SUM(A2:A9)*5.\n",
            "Associative property test passed.\n",
            "All merge function tests passed successfully for all test cases.\n"
          ]
        }
      ]
    },
    {
      "cell_type": "code",
      "source": [
        "# Rule 5: Different Cell References - If the cell reference of  the letters of both users varies take both references and combine them.\n",
        "user1_formula_5 = \"SUM(A1:A9)\" # Input 1\n",
        "user2_formula_5 = \"SUM(C1:C9)\" # Input 2\n",
        "merged_formula_5 = \"SUM(A1:A9, C1:C9)\" # Output\n",
        "\n",
        "test_cases = [\n",
        "    # Test cases for different column references\n",
        "    (\"SUM(A1:A9)\", \"SUM(C1:C9)\", \"SUM(A1:A9, C1:C9)\"),\n",
        "    (\"SUM(B1:B10)\", \"SUM(D1:D5)\", \"SUM(B1:B10, D1:D5)\"),\n",
        "    (\"SUM(E10:E20)\", \"SUM(G10:G20)\", \"SUM(E10:E20, G10:G20)\"),\n",
        "    #(\"SUM(Z1:Z5)\", \"SUM(X1:X5)\", \"SUM(X1:X5, Z1:Z5)\"), # Note the order change due to sorting\n",
        "\n",
        "    # Test cases for different row references\n",
        "    (\"SUM(A1:A5)\", \"SUM(A6:A10)\", \"SUM(A1:A10)\"),\n",
        "\n",
        "    # Test cases for mixed references\n",
        "    (\"SUM(C1:C9)\", \"SUM(D10:D19)\", \"SUM(C1:C9, D10:D19)\"),\n",
        "    (\"SUM(B10:B15)\", \"SUM(B20:B25)\", \"SUM(B10:B15, B20:B25)\"),\n",
        "\n",
        "    # Test cases involving multiple cell ranges\n",
        "    (\"SUM(A1:A5, B1:B5)\", \"SUM(C1:C5)\", \"SUM(A1:A5, B1:B5, C1:C5)\"),\n",
        "    (\"SUM(D1:D10)\", \"SUM(E1:E10, F1:F10)\", \"SUM(D1:D10, E1:E10, F1:F10)\")\n",
        "\n",
        "]\n",
        "\n",
        "# Test if this rule works\n",
        "test_merge_function(user1_formula_5, user2_formula_5, merged_formula_5)\n",
        "\n",
        "# Run the test function with the defined test cases\n",
        "test_all_merge_functions(test_cases)"
      ],
      "metadata": {
        "colab": {
          "base_uri": "https://localhost:8080/"
        },
        "id": "fGC_QrvHFyNO",
        "outputId": "ca9c4dde-fec7-4bd1-a6fb-7b23c0fd115e"
      },
      "execution_count": 130,
      "outputs": [
        {
          "output_type": "stream",
          "name": "stdout",
          "text": [
            "Merging test passed.\n",
            "Commutative property test passed.\n",
            "Idempotent property test passed with SUM(A1:A9).\n",
            "Idempotent property test passed with SUM(C1:C9).\n",
            "Associative property test passed.\n",
            "All merge function tests passed successfully for all test cases.\n"
          ]
        }
      ]
    },
    {
      "cell_type": "code",
      "source": [
        "### NOT SOLVED YET\n",
        "# Rule 5: If a user inserts something to the cell, also insert it.\n",
        "user1_formula_4 = \"1+2+3\" # Input 1\n",
        "user2_formula_4 = \"1+2+4+3\" # Input 2\n",
        "merged_formula_4 = \"1+2+4+3\" # Output\n",
        "\n",
        "test_cases = [\n",
        "    # Simple insertions\n",
        "    (\"1+2+3\", \"1+2+4+3\", \"1+2+4+3\"),\n",
        "    (\"A1+B1+C1\", \"A1+B1+D1+C1\", \"A1+B1+D1+C1\"),\n",
        "    (\"SUM(A1:A10)\", \"SUM(A1:A5)+SUM(A6:A10)\", \"SUM(A1:A5)+SUM(A6:A10)\"),\n",
        "    (\"MAX(B1:B10)\", \"MAX(B1:B5)+MAX(B6:B10)\", \"MAX(B1:B5)+MAX(B6:B10)\"),\n",
        "\n",
        "    # Insertions with multiple elements\n",
        "    (\"1+2+3\", \"1+5+2+6+3+4\", \"1+5+2+6+3+4\"),\n",
        "    (\"A1+B1\", \"A1+X1+B1+Y1\", \"A1+X1+B1+Y1\"),\n",
        "    (\"SUM(C1:C10)\", \"SUM(C1:C5)+X1+SUM(C6:C10)+Y1\", \"SUM(C1:C5)+X1+SUM(C6:C10)+Y1\"),\n",
        "\n",
        "    # Insertions in complex expressions\n",
        "    (\"(A1+B1)*C1\", \"(A1+X1+B1)*C1\", \"(A1+X1+B1)*C1\"),\n",
        "    (\"2*3+4\", \"2*5*3+6+4\", \"2*5*3+6+4\"),\n",
        "    (\"SUM(D1:D10)/10\", \"SUM(D1:D5)+X1+SUM(D6:D10)/10\", \"SUM(D1:D5)+X1+SUM(D6:D10)/10\"),\n",
        "\n",
        "    # Nested functions with insertions\n",
        "    (\"SUM(SUM(E1:E5):E10)\", \"SUM(SUM(E1:E3)+X1:SUM(E4:E5):E10)\", \"SUM(SUM(E1:E3)+X1:SUM(E4:E5):E10)\"),\n",
        "    (\"MAX(F1:F10)-MIN(F1:F10)\", \"MAX(F1:F5)+X1-MAX(F6:F10)-MIN(F1:F5)-Y1-MIN(F6:F10)\", \"MAX(F1:F5)+X1-MAX(F6:F10)-MIN(F1:F5)-Y1-MIN(F6:F10)\"),\n",
        "\n",
        "    # Insertions with functions\n",
        "    (\"AVG(G1:G10)\", \"AVG(G1:G5)+X1+AVG(G6:G10)\", \"AVG(G1:G5)+X1+AVG(G6:G10)\"),\n",
        "    (\"1+SUM(H1:H10)\", \"1+SUM(H1:H5)+X1+SUM(H6:H10)\", \"1+SUM(H1:H5)+X1+SUM(H6:H10)\"),\n",
        "]\n",
        "\n",
        "# Test if this rule works\n",
        "test_merge_function(user1_formula_4, user2_formula_4, merged_formula_4)\n",
        "\n",
        "# Run the test function with the defined test cases\n",
        "test_all_merge_functions(test_cases)"
      ],
      "metadata": {
        "colab": {
          "base_uri": "https://localhost:8080/"
        },
        "id": "qZldhUvVqoJv",
        "outputId": "ae495516-bfd3-4f0c-a637-0b804b861d72"
      },
      "execution_count": 131,
      "outputs": [
        {
          "output_type": "stream",
          "name": "stdout",
          "text": [
            "Test failed: Merging 1+2+3 and 1+2+4+3 produced (1+2)+3, expected 1+2+4+3\n",
            "Test failed for formulas '1+2+3' and '1+2+4+3'. Expected '1+2+4+3', got '(1+2)+3'.\n"
          ]
        }
      ]
    },
    {
      "cell_type": "markdown",
      "source": [
        "### Merging Rules Vault: Additional List of Merging Rules & Examples (Not Implemented & Not Tested)"
      ],
      "metadata": {
        "id": "Mdkfh9YsT_Fb"
      }
    },
    {
      "cell_type": "markdown",
      "source": [
        "Backup: This should be a comprehensive list of merging rules we want to implement in our merging function. We start with simple formulas and rules and try to get complexer over time. This Vault should be a comprehensive list of rules and formulas we try to implement and test with our merging function.\n",
        "\n",
        "If we try to implement one of these rules we move them to the top above the merging function so we can check which rules are still open and which do already work.\n",
        "\n",
        "This are the merging examples and merging rules we are currently tring to implement and test. We implement one ruel at the time."
      ],
      "metadata": {
        "id": "sB6o9-bsyH8i"
      }
    },
    {
      "cell_type": "code",
      "source": [
        "# Rule 5: Conditional Addition - If you have two different Sumifs add them up.\n",
        "user1_formula_5 = 'SUMIF(A2:A9, \">5\")' # Input 1\n",
        "user2_formula_5 = 'SUMIF(B1:B6;\"<10\")' # Input 2\n",
        "merged_formula_5 = 'SUMIF(A2:A9;\">5\") + SUMIF(B1:B6;\"<10\")' # Output\n",
        "\n",
        "# Rule 8: Nested Functions - If one user adds nesting use the nesting.\n",
        "user1_formula_8 = 'SUM(A2:A9)' # Input 1\n",
        "user2_formula_8 = 'SUM(SUM(A2:A9), 10)' # Input 2\n",
        "merged_formula_8 = 'SUM(SUM(A2:A9), 10)' # Output\n",
        "\n",
        "# Rule 10: Different Criteria in SUMIF - Combine both criteria within a specified range.\n",
        "user1_formula_10 = 'SUMIF(A2:A9, \">5\")' # Input 1\n",
        "user2_formula_10 = 'SUMIF(A2:A9, \"<10\")' # Input 2\n",
        "merged_formula_10 = 'SUMIF(A2:A9, \">5\", A2:A9) - SUMIF(A2:A9, \">=10\", A2:A9)' # Output\n",
        "\n",
        "# Rule 12: Add Brackets - Use brackets in the output.\n",
        "user1_formula_12 = \"2 + 3\" # Input 1\n",
        "user2_formula_12 = \"(2 * 3) * 4\" # Input 2\n",
        "merged_formula_12 = \"(2 + 3) * 4\" # Output\n",
        "\n",
        "# Rule 13: Merging IF Statements - Combine different IF statements.\n",
        "user1_formula_13 = 'IF(A2 > 5, \"Yes\", \"No\")' # Input 1\n",
        "user2_formula_13 = 'IF(B2 < 3, \"True\", \"False\")' # Input 2\n",
        "merged_formula_13 = 'IF(A2 > 5, \"Yes\", \"No\") & IF(B2 < 3, \"True\", \"False\")' # Output\n",
        "\n",
        "# Rule 14: Combining Different Date Functions - Merge different date-related functions.\n",
        "user1_formula_14 = 'YEAR(A2)' # Input 1\n",
        "user2_formula_14 = 'MONTH(A2)' # Input 2\n",
        "merged_formula_14 = 'YEAR(A2) & MONTH(A2)' # Output\n",
        "\n",
        "\n",
        "### PARSER CAN NOT HANDLE THESE\n",
        "# Rule 15: Combining Absolute and Relative References - If one user uses absolut and the other relativ references use the absolut reference.\n",
        "user1_formula_7 = 'SUM($A$2:A9)' # Input 1\n",
        "user2_formula_7 = 'SUM(A2:A9)' # Input 2\n",
        "merged_formula_7 = 'SUM($A$2:A9)' # Output\n",
        "\n",
        "# Rule 16: Mixed References - If one formula uses mixed references, use the mixed reference.\n",
        "user1_formula_9 = \"SUM($A2:A9)\" # Input 1\n",
        "user2_formula_9 = \"SUM(A2:A9)\" # Input 2\n",
        "merged_formula_9 = \"SUM($A2:A9)\" # Output"
      ],
      "metadata": {
        "id": "zDBqKX9GUDmM"
      },
      "execution_count": 132,
      "outputs": []
    }
  ]
}