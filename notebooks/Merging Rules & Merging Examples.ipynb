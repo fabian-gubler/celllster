{
  "nbformat": 4,
  "nbformat_minor": 0,
  "metadata": {
    "colab": {
      "provenance": [],
      "collapsed_sections": [
        "hW0EJS3Q4KAV"
      ]
    },
    "kernelspec": {
      "name": "python3",
      "display_name": "Python 3"
    },
    "language_info": {
      "name": "python"
    }
  },
  "cells": [
    {
      "cell_type": "markdown",
      "source": [
        "### Excel Formula Parser: Converts Excel Formula to Abstract Syntax Tree (AST)"
      ],
      "metadata": {
        "id": "hW0EJS3Q4KAV"
      }
    },
    {
      "cell_type": "code",
      "execution_count": 123,
      "metadata": {
        "id": "CtKx1hoHzY68"
      },
      "outputs": [],
      "source": [
        "import re\n",
        "\n",
        "class Cell:\n",
        "  def __init__(self, col, row):\n",
        "    self.col = col\n",
        "    self.row = row\n",
        "  def __repr__(self):\n",
        "    return \"Cell[%s%d]\" % (self.col, self.row)\n",
        "\n",
        "class CellRange:\n",
        "  def __init__(self, start, end):\n",
        "    self.start = start\n",
        "    self.end   = end\n",
        "  def __repr__(self):\n",
        "    return \"Range[%s][%s]\" % (self.start, self.end)\n",
        "\n",
        "class Name:\n",
        "  def __init__(self, name):\n",
        "    self.name = name\n",
        "  def __repr__(self):\n",
        "    return \"Name[%s]\" % self.name\n",
        "\n",
        "class Function:\n",
        "  def __init__(self, func_name, arguments):\n",
        "    self.func_name = func_name\n",
        "    self.arguments    = arguments\n",
        "  def __repr__(self):\n",
        "    return \"Func[%s][%d][%s]\" % (self.func_name, len(self.arguments), \", \".join(map(str, self.arguments)))\n",
        "\n",
        "class Number:\n",
        "  def __init__(self, value):\n",
        "    self.value = value\n",
        "  def __repr__(self):\n",
        "    return \"Num[%f]\" % self.value\n",
        "\n",
        "class Logical:\n",
        "  def __init__(self, value):\n",
        "    self.value = value\n",
        "  def __repr__(self):\n",
        "    return \"Bool[%s]\" % self.value\n",
        "\n",
        "class Binary:\n",
        "  def __init__(self, left, op, right):\n",
        "    self.left = left\n",
        "    self.op = op\n",
        "    self.right = right\n",
        "  def __repr__(self):\n",
        "    return \"Binary[%s][%s][%s]\" % (self.op, self.left, self.right)\n",
        "\n",
        "class Unary:\n",
        "  def __init__(self, op, expr):\n",
        "    self.op = op\n",
        "    self.expr = expr\n",
        "  def __repr__(self):\n",
        "    return \"Unary[%s][%s]\" % (self.op, self.expr)\n",
        "\n",
        "def _tokenize(code):\n",
        "  return code.replace(\":\", \" : \").replace(\",\", \" , \").replace(\"(\", \" ( \").replace(\")\", \" ) \")\\\n",
        "             .replace(\"*\", \" * \").replace(\"+\", \" + \").replace(\"/\", \" / \").replace(\"-\", \" - \")\\\n",
        "             .replace(\"%\", \" % \").replace(\"^\", \" ^ \").replace(\"=\", \" = \").replace(\"<\", \" < \")\\\n",
        "             .replace(\"e - \", \"e-\").replace(\"e + \", \"e+\")\\\n",
        "             .replace(\"> =\", \" >= \").replace(\"< =\", \" <= \").replace(\"< >\", \" <> \")\\\n",
        "             .split()\n",
        "\n",
        "\n",
        "class FormulaParseError(Exception): pass\n",
        "\n",
        "def _parse(tokens):\n",
        "\n",
        "  def _parse_logical():\n",
        "    if tokens[0].lower() == \"true\":\n",
        "      tokens.pop(0)\n",
        "      return Logical(True)\n",
        "    elif tokens[0].lower() == \"false\":\n",
        "      tokens.pop(0)\n",
        "      return Logical(False)\n",
        "\n",
        "  def _parse_number():\n",
        "    try:\n",
        "      number = int(tokens[0])\n",
        "      tokens.pop(0)\n",
        "      return Number(number)\n",
        "    except ValueError:\n",
        "      try:\n",
        "        number = float(tokens[0])\n",
        "        tokens.pop(0)\n",
        "        return Number(number)\n",
        "      except:\n",
        "        return None\n",
        "\n",
        "  def _parse_cell():\n",
        "    # https://support.microsoft.com/en-us/office/overview-of-formulas-in-excel-ecfdc708-9162-49e8-b993-c311f47ca173\n",
        "    cell_regex = '^([a-zA-Z]+)([0-9]+)$'\n",
        "    matches = re.match(cell_regex, tokens[0])\n",
        "    if matches is None:\n",
        "      return None\n",
        "    col = matches.group(1).upper()\n",
        "    if len(col) > 3 or col > 'XFD':\n",
        "      return None\n",
        "    row = int(matches.group(2))\n",
        "    if row > 1048576 or row == 0:\n",
        "      return None\n",
        "    return Cell(col, row)\n",
        "\n",
        "  def _parse_cell_or_range():\n",
        "    cell1 = _parse_cell()\n",
        "    if cell1 is None:\n",
        "      return None\n",
        "    tokens.pop(0)\n",
        "    if len(tokens) == 0 or tokens[0] != ':':\n",
        "      return cell1\n",
        "    tokens.pop(0)\n",
        "    if len(tokens) == 0:\n",
        "      raise FormulaParseError(\"Unexpected end-of-formula after colon\")\n",
        "    cell2 = _parse_cell()\n",
        "    if cell2 is None:\n",
        "      raise FormulaParseError(\"Expected cell after colon, found \" + tokens[0])\n",
        "    tokens.pop(0)\n",
        "    return CellRange(cell1, cell2)\n",
        "\n",
        "  def _parse_name_or_func():\n",
        "    # https://support.microsoft.com/en-us/office/names-in-formulas-fc2935f9-115d-4bef-a370-3aa8bb4c91f1\n",
        "    name_is_ok = re.match('^[a-zA-Z_][a-zA-Z0-9_.]+$', tokens[0])\n",
        "    if name_is_ok is None:\n",
        "      return None\n",
        "    name = tokens.pop(0).upper()\n",
        "    if len(tokens) == 0 or tokens[0] != \"(\":\n",
        "      return Name(name)\n",
        "    tokens.pop(0)\n",
        "    arguments = []\n",
        "    while True:\n",
        "      if len(tokens) == 0:\n",
        "        raise FormulaParseError(\"Unexpected end-of-formula while parsing arguments of \" + name)\n",
        "      arg = _parse_expr()\n",
        "      if arg is None:\n",
        "        return None\n",
        "      arguments.append(arg)\n",
        "      if len(tokens) == 0:\n",
        "        raise FormulaParseError(\"Unexpected end-of-formula while parsing arguments of \" + name)\n",
        "      next = tokens.pop(0)\n",
        "      if next == \")\":\n",
        "        break\n",
        "      elif next == \",\":\n",
        "        continue\n",
        "      else:\n",
        "        raise FormulaParseError(\"Expected closed parenthesis or comma after argument of function \" + name)\n",
        "    return Function(name, arguments)\n",
        "\n",
        "  def _parse_unary():\n",
        "    if tokens[0] in [\"+\", \"-\"]:\n",
        "      op = tokens.pop(0)\n",
        "      if len(tokens) == 0:\n",
        "        raise FormulaParseError(\"Unexpected end-of-formula after unary operator \" + op)\n",
        "      return Unary(op, _parse_expr())\n",
        "\n",
        "  def _parse_op():\n",
        "    if tokens[0] in [\"+\", \"-\", \"*\", \"/\", \"%\", \"^\", \"=\", \"<>\", \"<\", \">\", \"<=\", \">=\"]:\n",
        "      return tokens.pop(0)\n",
        "    raise FormulaParseError(\"Unknown operator \" + tokens.pop(0))\n",
        "\n",
        "  def _parse_basic_expr():\n",
        "    logical = _parse_logical()\n",
        "    if logical is not None:\n",
        "      return logical\n",
        "    number = _parse_number()\n",
        "    if number is not None:\n",
        "      return number\n",
        "    cell_or_range = _parse_cell_or_range()\n",
        "    if cell_or_range is not None:\n",
        "      return cell_or_range\n",
        "    func_or_name = _parse_name_or_func()\n",
        "    if func_or_name is not None:\n",
        "      return func_or_name\n",
        "    if tokens[0] == \"(\":\n",
        "      tokens.pop(0)\n",
        "      expr = _parse_expr()\n",
        "      if len(tokens) == 0 or tokens[0] != \")\":\n",
        "        raise FormulaParseError(\"Closed parenthesis expected\")\n",
        "      return expr\n",
        "    if tokens[0] == \"+\" or tokens[0] == \"-\":\n",
        "      op = tokens.pop(0)\n",
        "      if len(tokens) == 0:\n",
        "        raise FormulaParseError(\"Unexpected end-of-formula after unary operator \" + op)\n",
        "      expr = _parse_basic_expr()\n",
        "      return Unary(op, expr)\n",
        "\n",
        "  def _parse_expr():\n",
        "    if len(tokens) == 0:\n",
        "      raise FormulaParseError(\"Expression cannot be empty\")\n",
        "\n",
        "    arithmetic = []\n",
        "\n",
        "    while True:\n",
        "      basic = _parse_basic_expr()\n",
        "      if basic is not None:\n",
        "        arithmetic.append(basic)\n",
        "      else:\n",
        "        raise FormulaParseError(\"Expected a number, a boolean, a cell, a range, or a function call\")\n",
        "\n",
        "      if len(tokens) == 0 or tokens[0] == \",\" or tokens[0] == \")\":\n",
        "        break\n",
        "\n",
        "      arithmetic.append(_parse_op())\n",
        "\n",
        "    # resolve precedence according to\n",
        "    # https://support.microsoft.com/en-us/office/calculation-operators-and-precedence\n",
        "    # -in-excel-48be406d-4975-4d31-b2b8-7af9e0e2878a\n",
        "\n",
        "    level = { \"%\": 0, \"^\": 1, \"*\": 2, \"/\": 2, \"+\": 3, \"-\": 3, \"=\": 4, \"<\": 4, \">\": 4,\n",
        "              \"<=\": 4, \">=\": 4, \"<>\": 4 }\n",
        "\n",
        "    # Ugh, I don't want to think about this...\n",
        "    while len(arithmetic) != 1:\n",
        "      min_i = 1\n",
        "      for i in range(1, len(arithmetic), 2):\n",
        "        if level[arithmetic[i]] < level[arithmetic[min_i]]:\n",
        "          min_i = i\n",
        "      arithmetic = arithmetic[0:min_i-1] \\\n",
        "                   + [Binary(arithmetic[min_i-1], arithmetic[min_i], arithmetic[min_i+1])] \\\n",
        "                   + arithmetic[min_i+2:]\n",
        "\n",
        "    return arithmetic[0]\n",
        "\n",
        "  expr = _parse_expr()\n",
        "\n",
        "  if len(tokens) > 0:\n",
        "    raise FormulaParseError(\"Multiple formulas provided\")\n",
        "\n",
        "  return expr\n",
        "\n",
        "def parse(code):\n",
        "  tokens = _tokenize(code)\n",
        "  return _parse(tokens)"
      ]
    },
    {
      "cell_type": "markdown",
      "source": [
        "### String Function: Converts Abstract Syntax Tree (AST) back to String"
      ],
      "metadata": {
        "id": "MH71poz2fK0d"
      }
    },
    {
      "cell_type": "markdown",
      "source": [
        "The ast_to_string function is designed to convert an Abstract Syntax Tree (AST) back into a string representation of an Excel formula. It takes an AST node and optionally a parent node as input, and returns the string representation of that node."
      ],
      "metadata": {
        "id": "1MYgKj-c1QpL"
      }
    },
    {
      "cell_type": "code",
      "source": [
        "# Function that converts Abstract Syntax Tree (AST) back to String.\n",
        "def ast_to_string(node, parent=None):\n",
        "\n",
        "    if isinstance(node, Function):\n",
        "        # If node is a Function, iterate through all arguments and convert them to a string. Joins these strings with commas.\n",
        "        # The function name is then combined with these arguments enclosed in parentheses.\n",
        "        args_string = ', '.join(ast_to_string(arg, node) for arg in node.arguments)\n",
        "        return f\"{node.func_name}({args_string})\"\n",
        "\n",
        "    elif isinstance(node, CellRange):\n",
        "        # If the node is a CellRange, it converts the start and end cells of the range to their string representations and joins them with a colon like \"A1:B2\".\n",
        "        return f\"{ast_to_string(node.start, node)}:{ast_to_string(node.end, node)}\"\n",
        "\n",
        "    elif isinstance(node, Cell):\n",
        "        # If the node is a Cell, it converts the cell to its string representation like \"A1\".\n",
        "        return f\"{node.col}{node.row}\"\n",
        "\n",
        "    elif isinstance(node, Name):\n",
        "        # If the node is a Name/Identifier (like a named range or variable), it converts the Name/Identifier to a string.\n",
        "        return node.name\n",
        "\n",
        "    elif isinstance(node, Number):\n",
        "        # If the node is a Number, it converts the number to a string.\n",
        "        return str(node.value)\n",
        "\n",
        "    elif isinstance(node, Logical):\n",
        "        # If the node is a Logical (boolean value), it converts it to a string (\"TRUE\" or \"FALSE\").\n",
        "        return \"TRUE\" if node.value else \"FALSE\"\n",
        "\n",
        "    elif isinstance(node, Binary):\n",
        "        # If the node is a Binary operation (like addition, subtraction), it converts both the left and right operands to strings and joins them with the operator (e.g., \"A1 + B1\").\n",
        "        # If this binary operation is not the top-level operation (has a parent), it encloses the operation in parentheses.\n",
        "        left = ast_to_string(node.left, node)\n",
        "        right = ast_to_string(node.right, node)\n",
        "        operation = f\"{left}{node.op}{right}\"\n",
        "        if parent is None:\n",
        "            return operation\n",
        "        else:\n",
        "            return f\"({operation})\"\n",
        "\n",
        "    elif isinstance(node, Unary):\n",
        "        # If the node is a Unary operation, it converts the operand to a string and precedes it with the unary operator (e.g., \"-A1\").\n",
        "        return f\"{node.op}{ast_to_string(node.expr, node)}\"\n",
        "\n",
        "    else:\n",
        "        # If the node type is not recognized, it raises an error.\n",
        "        raise ValueError(f\"Unsupported AST node type: {type(node)}\")\n"
      ],
      "metadata": {
        "id": "Juy0C8iDLp41"
      },
      "execution_count": 124,
      "outputs": []
    },
    {
      "cell_type": "markdown",
      "source": [
        "### Merging Examples & Merging Rules"
      ],
      "metadata": {
        "id": "btgJpc28Axe6"
      }
    },
    {
      "cell_type": "markdown",
      "source": [
        "This are the merging examples and merging rules we are currently tring to implement and test. We implement one ruel at the time."
      ],
      "metadata": {
        "id": "JYKPfpcCIONU"
      }
    },
    {
      "cell_type": "code",
      "source": [
        "### IMPLEMENTED, CHECKED & TESTED\n",
        "# Rule 1: Identical Formulas - If both users have the same formula, the merged output should be the formula.\n",
        "user1_formula_1 = \"SUM(A2:A9)*5\" # Input 1\n",
        "user2_formula_1 = \"SUM(A2:A9)*5\" # Input 2\n",
        "merged_formula_1 = \"SUM(A2:A9)*5\" # Output\n",
        "\n",
        "### IMPLEMENTED, CHECKED & TESTED\n",
        "# Rule 2: Varying Cell Range - If the cell range of both users varies, take the max of the start and end cell when defining and choosing the range.\n",
        "user1_formula_2 = \"SUM(A1:A9)\" # Input 1\n",
        "user2_formula_2 = \"SUM(A2:A10)\" # Input 2\n",
        "merged_formula_2 = \"SUM(A1:A10)\" # Output\n",
        "\n",
        "### IMPLEMENTED, CHECKED & TESTED\n",
        "# Rule 3: Node Appendage - If one user has appended something additional or new to the formula, add evrything that is additional and new.\n",
        "user1_formula_3 = \"SUM(A2:A9)\" # Input 1\n",
        "user2_formula_3 = \"SUM(A2:A9)*5\" # Input 2\n",
        "merged_formula_3 = \"SUM(A2:A9)*5\" # Output"
      ],
      "metadata": {
        "id": "GSBVkuEuA_Al"
      },
      "execution_count": 125,
      "outputs": []
    },
    {
      "cell_type": "markdown",
      "source": [
        "### Merging Function: Merges two Excel Formulas Together"
      ],
      "metadata": {
        "id": "NJxNRVXIBHXg"
      }
    },
    {
      "cell_type": "markdown",
      "source": [
        "The merge_function is designed to merge two Excel formulas represented as strings into a single formula. It first parses these formula strings into Abstract Syntax Trees (ASTs), then merges these ASTs based on certain rules, and finally converts the merged AST back into a string.\n",
        "\n",
        "This is the main Part of our Project. It's a work in Progress and here we try to implement the Merging rules we defined to come up in the end with a complex merging function that works on a variety of cases."
      ],
      "metadata": {
        "id": "KpzyTTFC9GS8"
      }
    },
    {
      "cell_type": "code",
      "source": [
        "# Function that merges two Excel String Formulas.\n",
        "def merge_function(user1_formula, user2_formula):\n",
        "    # Commutativity Support:\n",
        "    # If the first formula is longer than the second, they are swapped.\n",
        "    # This ensures that the function works the same regardless of the order of the inputs.\n",
        "    if len(user1_formula) > len(user2_formula):\n",
        "        user1_formula, user2_formula = user2_formula, user1_formula\n",
        "\n",
        "    # Parsing:\n",
        "    # Both formulas are parsed into Abstrac Styntax Trees (ASTs).\n",
        "    user1_ast = parse(user1_formula)\n",
        "    user2_ast = parse(user2_formula)\n",
        "\n",
        "    def merge_sum_ranges(ast1, ast2):\n",
        "        # This function merges the ranges of two SUM functions in ASTs.\n",
        "        # It checks if both ASTs are SUM functions and then calculates the merged range.\n",
        "        if isinstance(ast1, Function) and ast1.func_name == 'SUM' and \\\n",
        "           isinstance(ast2, Function) and ast2.func_name == 'SUM':\n",
        "            # Extracting the ranges from both SUM functions\n",
        "            range1 = ast1.arguments[0]\n",
        "            range2 = ast2.arguments[0]\n",
        "            # Determining the merged range\n",
        "            start_row = min(range1.start.row, range2.start.row)\n",
        "            end_row = max(range1.end.row, range2.end.row)\n",
        "            # Creating the merged range\n",
        "            merged_range = CellRange(Cell(range1.start.col, start_row), Cell(range1.end.col, end_row))\n",
        "            # Returning a new Function node representing a SUM function with the merged range as its argument.\n",
        "            return Function('SUM', [merged_range])\n",
        "        # If either of the AST nodes is not a SUM function, return None.\n",
        "        return None\n",
        "\n",
        "    def is_same_operation(ast1, ast2):\n",
        "        # Checks if the same operation (like division) is applied on both ASTs to redundant application of the same operation.\n",
        "        return isinstance(ast1, Binary) and isinstance(ast2, Binary) and ast1.op == ast2.op\n",
        "\n",
        "    def apply_additional_operation(merged_ast, original_ast):\n",
        "        # Applies additional operations (like division) found in the original ASTs to the merged SUM.\n",
        "        # It ensures not to duplicate an operation if it's already applied.\n",
        "        if isinstance(original_ast, Binary) and isinstance(original_ast.left, Function) and original_ast.left.func_name == 'SUM':\n",
        "            if is_same_operation(merged_ast, original_ast):\n",
        "                # If the same operation is already applied, don't apply it again.\n",
        "                return merged_ast\n",
        "            return Binary(merged_ast, original_ast.op, original_ast.right)\n",
        "        return merged_ast\n",
        "\n",
        "    def merge_operations(ast1, ast2):\n",
        "        # Checks if both ast1 and ast2 are Binary nodes (like A + B, C - D) and have the same operator (e.g., both '+'). If so, it attempts to merge these binary operations.\n",
        "        if isinstance(ast1, Binary) and isinstance(ast2, Binary) and ast1.op == ast2.op:\n",
        "            # It calls merge_ast on the left children (operands) of both ASTs.This recursively merges the left side of the binary operations.\n",
        "            merged_left = merge_ast(ast1.left, ast2.left)\n",
        "            # It calls merge_ast on the right children (operands) of both ASTs. This merges the right side of the binary operations.\n",
        "            merged_right = merge_ast(ast1.right, ast2.right)\n",
        "            # After merging the left and right operands, it creates a new Binary node with these merged operands\n",
        "            return Binary(merged_left, ast1.op, merged_right)\n",
        "        # If the ASTs don't represent the same binary operation, the function returns the first AST (ast1).\n",
        "        return ast1\n",
        "\n",
        "    def merge_ast(ast1, ast2):\n",
        "        # Core function to merge two ASTs using merge_ast and merge_operations. It first merges the SUM ranges and then applies any additional operations.\n",
        "        merged_sum = merge_sum_ranges(ast1, ast2) or ast1\n",
        "        merged_ast = apply_additional_operation(merged_sum, ast1)\n",
        "        return apply_additional_operation(merged_ast, ast2)\n",
        "\n",
        "    # Performing the merge operation (commutativity & associativity)\n",
        "    user1_ast_merged = merge_ast(user1_ast, user2_ast) # merge_ast is called with user1_ast and user2_ast as arguments.\n",
        "    user2_ast_merged = merge_ast(user2_ast, user1_ast) # merge_ast is called again, but this time the order of the ASTs is reversed.\n",
        "    merged_ast = merge_operations(user1_ast_merged, user2_ast_merged) # Finally, merge_operations is called with the two merged ASTs (user1_ast_merged and user2_ast_merged).\n",
        "\n",
        "    # Convert the merged AST back to a string representation of the formula.\n",
        "    return ast_to_string(merged_ast)"
      ],
      "metadata": {
        "id": "L4eOxMBjoJYV"
      },
      "execution_count": 126,
      "outputs": []
    },
    {
      "cell_type": "markdown",
      "source": [
        "### Merge Two Formulas: Example of Using the Merging Function"
      ],
      "metadata": {
        "id": "HphI5GKZIqMs"
      }
    },
    {
      "cell_type": "code",
      "source": [
        "# Test Formulas: I use this example to test my merging function.\n",
        "user1_formula = 'SUM(A2:A10)' # Input 1\n",
        "user2_formula = 'SUM(A2:A9)/B5' # Input 2\n",
        "merged_formula = 'SUM(A2:A10)/B5' # Correct Output"
      ],
      "metadata": {
        "id": "pR-NqKObBFB2"
      },
      "execution_count": 127,
      "outputs": []
    },
    {
      "cell_type": "code",
      "source": [
        "# Apply the merge function on the two user formulas\n",
        "output_merge_function = merge_function(user1_formula, user2_formula)\n",
        "\n",
        "# Apply the merge function commutatively on the two user formulas\n",
        "output_merge_function_commutative = merge_function(user2_formula, user1_formula)"
      ],
      "metadata": {
        "id": "bKr6TlMiIvgL"
      },
      "execution_count": 128,
      "outputs": []
    },
    {
      "cell_type": "code",
      "source": [
        "# Print the expected correct output after the merging we defined\n",
        "print(merged_formula)\n",
        "\n",
        "# Print the result of the merging and compare it to the Correct Output\n",
        "print(output_merge_function)\n",
        "print(output_merge_function == merged_formula)\n",
        "\n",
        "# Check if the merging also works commutatively\n",
        "print(output_merge_function_commutative)\n",
        "print(output_merge_function == output_merge_function_commutative)"
      ],
      "metadata": {
        "colab": {
          "base_uri": "https://localhost:8080/"
        },
        "id": "8xAL18DPJaZZ",
        "outputId": "21f96d1c-2bef-4613-d0dd-c044e01e4495"
      },
      "execution_count": 140,
      "outputs": [
        {
          "output_type": "stream",
          "name": "stdout",
          "text": [
            "SUM(A2:A10)/B5\n",
            "SUM(A2:A10)/B5\n",
            "True\n",
            "SUM(A2:A10)/B5\n",
            "True\n"
          ]
        }
      ]
    },
    {
      "cell_type": "markdown",
      "source": [
        "### Test function: Implement a Test function (commutative, idempotent and associative)"
      ],
      "metadata": {
        "id": "4mFULpbxPT8-"
      }
    },
    {
      "cell_type": "markdown",
      "source": [
        "The test function should check whether the merging function merges correctly according to our defined rules and is commutative, idempotent and associative."
      ],
      "metadata": {
        "id": "qo92e5s1P-zx"
      }
    },
    {
      "cell_type": "code",
      "source": [
        "# Test function that tests various properties (merging, commutativity, idempotency, and associativity) of the merge_function to ensure its correctness.\n",
        "def test_merge_function(user1_formula, user2_formula, expected_merged_formula):\n",
        "\n",
        "    # Merging the two user formulas.\n",
        "    actual_merged_formula = merge_function(user1_formula, user2_formula)\n",
        "\n",
        "    # Test if the merging worked correctly.\n",
        "    if actual_merged_formula != expected_merged_formula:\n",
        "        print(f\"Test failed: Merging {user1_formula} and {user2_formula} produced {actual_merged_formula}, expected {expected_merged_formula}\")\n",
        "        return False\n",
        "    else:\n",
        "        print(\"Merging test passed.\")\n",
        "\n",
        "    # Test Commutative Property: merge_function(a, b) == merge_function(b, a).\n",
        "    # Meaning the order of the inputs should not affect the outcome.\n",
        "    if merge_function(user1_formula, user2_formula) != merge_function(user2_formula, user1_formula):\n",
        "        print(\"Test failed: Merge function is not commutative.\")\n",
        "        return False\n",
        "    else:\n",
        "        print(\"Commutative property test passed.\")\n",
        "\n",
        "    # Test Idempotent Property: merge_function(a, a) == a.\n",
        "    # Meaning merging a formula with itself should yield the original formula.\n",
        "    # Test Idempotent Property with user1_formula: merge_function(a, a) == a\n",
        "    if merge_function(user1_formula, user1_formula) != user1_formula:\n",
        "        print(f\"Test failed: Merge function is not idempotent with {user1_formula}.\")\n",
        "        return False\n",
        "    else:\n",
        "        print(f\"Idempotent property test passed with {user1_formula}.\")\n",
        "\n",
        "    # Test Idempotent Property with user2_formula: merge_function(b, b) == b\n",
        "    if merge_function(user2_formula, user2_formula) != user2_formula:\n",
        "        print(f\"Test failed: Merge function is not idempotent with {user2_formula}.\")\n",
        "        return False\n",
        "    else:\n",
        "        print(f\"Idempotent property test passed with {user2_formula}.\")\n",
        "\n",
        "    # Test Associative Property: merge_function(a, merge_function(b, c)) == merge_function(merge_function(a, b), c).\n",
        "    # Meaning the grouping of operations does not change the result.\n",
        "    # For simplicity, using the same formula for b and c.\n",
        "    if merge_function(user1_formula, merge_function(user2_formula, user2_formula)) != merge_function(merge_function(user1_formula, user2_formula), user2_formula):\n",
        "        print(\"Test failed: Merge function is not associative.\")\n",
        "        return False\n",
        "    else:\n",
        "        print(\"Associative property test passed.\")\n",
        "\n",
        "    # If all tests are passed, the function returns True.\n",
        "    return True"
      ],
      "metadata": {
        "id": "p2Mz8OCpPeOi"
      },
      "execution_count": 135,
      "outputs": []
    },
    {
      "cell_type": "markdown",
      "source": [
        "### Testing: Execute the Tests"
      ],
      "metadata": {
        "id": "pg9kDh5NQz_Y"
      }
    },
    {
      "cell_type": "code",
      "source": [
        "# Apply the test merge function on the example\n",
        "test_merge_function(user1_formula, user2_formula, merged_formula)"
      ],
      "metadata": {
        "colab": {
          "base_uri": "https://localhost:8080/"
        },
        "id": "TuQjd9GFQ5S0",
        "outputId": "e98035d0-1f43-41eb-d772-7f106c061ea5"
      },
      "execution_count": 136,
      "outputs": [
        {
          "output_type": "stream",
          "name": "stdout",
          "text": [
            "Merging test passed.\n",
            "Commutative property test passed.\n",
            "Idempotent property test passed with SUM(A2:A10).\n",
            "Idempotent property test passed with SUM(A2:A9)/B5.\n",
            "Associative property test passed.\n"
          ]
        },
        {
          "output_type": "execute_result",
          "data": {
            "text/plain": [
              "True"
            ]
          },
          "metadata": {},
          "execution_count": 136
        }
      ]
    },
    {
      "cell_type": "markdown",
      "source": [
        "### Test Different Merging Rules & Merging Examples"
      ],
      "metadata": {
        "id": "FT24YpYruroC"
      }
    },
    {
      "cell_type": "code",
      "source": [
        "# Rule 1: Identical Formulas - If both users have the same formula, the merged output should be the formula.\n",
        "user1_formula_1 = \"SUM(A2:A9)*5\" # Input 1\n",
        "user2_formula_1 = \"SUM(A2:A9)*5\" # Input 2\n",
        "merged_formula_1 = \"SUM(A2:A9)*5\" # Output\n",
        "\n",
        "# Test if this rule works\n",
        "test_merge_function(user1_formula_1, user2_formula_1, merged_formula_1)"
      ],
      "metadata": {
        "colab": {
          "base_uri": "https://localhost:8080/"
        },
        "id": "LkuF3yxSuzDn",
        "outputId": "a67f9bb6-0988-4902-b7f8-33076f168154"
      },
      "execution_count": 137,
      "outputs": [
        {
          "output_type": "stream",
          "name": "stdout",
          "text": [
            "Merging test passed.\n",
            "Commutative property test passed.\n",
            "Idempotent property test passed with SUM(A2:A9)*5.\n",
            "Idempotent property test passed with SUM(A2:A9)*5.\n",
            "Associative property test passed.\n"
          ]
        },
        {
          "output_type": "execute_result",
          "data": {
            "text/plain": [
              "True"
            ]
          },
          "metadata": {},
          "execution_count": 137
        }
      ]
    },
    {
      "cell_type": "code",
      "source": [
        "# Rule 2: Varying Cell Range - If the cell range of both users varies take the max of the start and end cell when defining the range.\n",
        "user1_formula_2 = \"SUM(A1:A9)\" # Input 1\n",
        "user2_formula_2 = \"SUM(A2:A10)\" # Input 2\n",
        "merged_formula_2 = \"SUM(A1:A10)\" # Output\n",
        "\n",
        "# Test if this rule works\n",
        "test_merge_function(user1_formula_2, user2_formula_2, merged_formula_2)"
      ],
      "metadata": {
        "colab": {
          "base_uri": "https://localhost:8080/"
        },
        "id": "EqDyDstuvWa3",
        "outputId": "16af6915-b478-4531-940b-4bcbbbba1ff5"
      },
      "execution_count": 138,
      "outputs": [
        {
          "output_type": "stream",
          "name": "stdout",
          "text": [
            "Merging test passed.\n",
            "Commutative property test passed.\n",
            "Idempotent property test passed with SUM(A1:A9).\n",
            "Idempotent property test passed with SUM(A2:A10).\n",
            "Associative property test passed.\n"
          ]
        },
        {
          "output_type": "execute_result",
          "data": {
            "text/plain": [
              "True"
            ]
          },
          "metadata": {},
          "execution_count": 138
        }
      ]
    },
    {
      "cell_type": "code",
      "source": [
        "# Rule 3: Node Appendage - If one user has appended something additional or new to the formula, add evrything that is additional and new.\n",
        "user1_formula_3 = \"SUM(A2:A9)\" # Input 1\n",
        "user2_formula_3 = \"SUM(A2:A9)*5\" # Input 2\n",
        "merged_formula_3 = \"SUM(A2:A9)*5\" # Output\n",
        "\n",
        "# Test if this rule works\n",
        "test_merge_function(user1_formula_3, user2_formula_3, merged_formula_3)"
      ],
      "metadata": {
        "colab": {
          "base_uri": "https://localhost:8080/"
        },
        "id": "vgu7w3rfwC49",
        "outputId": "979abea4-8bd5-4746-8c2d-66616ddb2ccf"
      },
      "execution_count": 139,
      "outputs": [
        {
          "output_type": "stream",
          "name": "stdout",
          "text": [
            "Merging test passed.\n",
            "Commutative property test passed.\n",
            "Idempotent property test passed with SUM(A2:A9).\n",
            "Idempotent property test passed with SUM(A2:A9)*5.\n",
            "Associative property test passed.\n"
          ]
        },
        {
          "output_type": "execute_result",
          "data": {
            "text/plain": [
              "True"
            ]
          },
          "metadata": {},
          "execution_count": 139
        }
      ]
    },
    {
      "cell_type": "markdown",
      "source": [
        "### Merging Rules Vault: Additional List of Merging Rules & Examples (Not Implemented & Not Tested)"
      ],
      "metadata": {
        "id": "Mdkfh9YsT_Fb"
      }
    },
    {
      "cell_type": "markdown",
      "source": [
        "Backup: This should be a comprehensive list of merging rules we want to implement in our merging function. We start with simple formulas and rules and try to get complexer over time. This Vault should be a comprehensive list of rules and formulas we try to implement and test with our merging function.\n",
        "\n",
        "If we try to implement one of these rules we move them to the top above the merging function so we can check which rules are still open and which do already work."
      ],
      "metadata": {
        "id": "sB6o9-bsyH8i"
      }
    },
    {
      "cell_type": "code",
      "source": [
        "# Rule 4: Different Cell References - If the cell reference for both users varies take both references and combine them.\n",
        "user1_formula_4 = \"SUM(A1:A9)\" # Input 1\n",
        "user2_formula_4 = \"SUM(B1:B9)\" # Input 2\n",
        "merged_formula_4 = \"SUM(A2:A9; B2:B9)\" # Output\n",
        "\n",
        "# Rule 5: Conditional Addition - If you have two different Sumifs add them up.\n",
        "user1_formula_5 = 'SUMIF(A2:A9, \">5\")' # Input 1\n",
        "user2_formula_5 = 'SUMIF(B1:B6;\"<10\")' # Input 2\n",
        "merged_formula_5 = 'SUMIF(A2:A9;\">5\") + SUMIF(B1:B6;\"<10\")' # Output\n",
        "\n",
        "# Rule 6: Incorporating a New Function - If one user adds a function just add them up.\n",
        "user1_formula_6 = 'SUM(A2:A9)' # Input 1\n",
        "user2_formula_6 = 'SUM(A2:A9) + COUNT(A2:A9)' # Input 2\n",
        "merged_formula_6 = 'SUM(A2:A9) + COUNT(A2:A9)' # Output\n",
        "\n",
        "# Rule 7: Combining Absolute and Relative References - If one user uses absolut and the other relativ references use the absolut reference.\n",
        "user1_formula_7 = 'SUM($A$2:A9)' # Input 1\n",
        "user2_formula_7 = 'SUM(A2:A9)' # Input 2\n",
        "merged_formula_7 = 'SUM($A$2:A9)' # Output\n",
        "\n",
        "# Rule 8: Nested Functions - If one user adds nesting use the nesting.\n",
        "user1_formula_8 = 'SUM(A2:A9)' # Input 1\n",
        "user2_formula_8 = 'SUM(SUM(A2:A9), 10)' # Input 2\n",
        "merged_formula_8 = 'SUM(SUM(A2:A9), 10)' # Output\n",
        "\n",
        "# Rule 9: Mixed References - If one formula uses mixed references, use the mixed reference.\n",
        "user1_formula_9 = \"SUM($A2:A9)\" # Input 1\n",
        "user2_formula_9 = \"SUM(A2:A9)\" # Input 2\n",
        "merged_formula_9 = \"SUM($A2:A9)\" # Output\n",
        "\n",
        "# Rule 10: Different Criteria in SUMIF - Combine both criteria within a specified range.\n",
        "user1_formula_10 = 'SUMIF(A2:A9, \">5\")' # Input 1\n",
        "user2_formula_10 = 'SUMIF(A2:A9, \"<10\")' # Input 2\n",
        "merged_formula_10 = 'SUMIF(A2:A9, \">5\", A2:A9) - SUMIF(A2:A9, \">=10\", A2:A9)' # Output\n",
        "\n",
        "# Rule 11: Add, Substract, divide or multiply different values\n",
        "user1_formula_11 = '4 * 3 + 2 - 4' # Input 1\n",
        "user2_formula_11 = '4 * 3 + 2 - 4 + 3 * 5' # Input 2\n",
        "merged_formula_11 = '4 * 3 + 2 - 4 + 3 * 5' # Output\n",
        "\n",
        "# Rule 12: Add Brackets - Use brackets in the output.\n",
        "user1_formula_12 = \"2 + 3\" # Input 1\n",
        "user2_formula_12 = \"(2 * 3) * 4\" # Input 2\n",
        "merged_formula_12 = \"(2 + 3) * 4\" # Output\n",
        "\n",
        "# Rule 13: Merging IF Statements - Combine different IF statements.\n",
        "user1_formula_13 = 'IF(A2 > 5, \"Yes\", \"No\")' # Input 1\n",
        "user2_formula_13 = 'IF(B2 < 3, \"True\", \"False\")' # Input 2\n",
        "merged_formula_13 = 'IF(A2 > 5, \"Yes\", \"No\") & IF(B2 < 3, \"True\", \"False\")' # Output\n",
        "\n",
        "# Rule 14: Combining Different Date Functions - Merge different date-related functions.\n",
        "user1_formula_14 = 'YEAR(A2)' # Input 1\n",
        "user2_formula_14 = 'MONTH(A2)' # Input 2\n",
        "merged_formula_14 = 'YEAR(A2) & MONTH(A2)' # Output"
      ],
      "metadata": {
        "id": "zDBqKX9GUDmM"
      },
      "execution_count": 141,
      "outputs": []
    }
  ]
}